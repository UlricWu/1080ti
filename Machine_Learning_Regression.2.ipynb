{
 "cells": [
  {
   "cell_type": "code",
   "execution_count": 21,
   "metadata": {},
   "outputs": [],
   "source": [
    "import numpy as np\n",
    "import pandas as pd\n",
    "from scipy import stats\n",
    "import random\n",
    "import math\n",
    "import matplotlib.pyplot as plt\n",
    "\n",
    "## random generate numbers\n",
    "n = 1000\n",
    "mu = 0\n",
    "sig = 1\n",
    "x = np.random.normal(mu,sig, (n,3))\n",
    "y = np.random.normal(mu,sig, (n,1))\n",
    "\n",
    "b = np.array([1,1,5]).reshape(-1,1)\n",
    "y += x@b\n",
    "## real beta is [1,1.5]"
   ]
  },
  {
   "cell_type": "code",
   "execution_count": 22,
   "metadata": {},
   "outputs": [
    {
     "data": {
      "text/html": [
       "<div>\n",
       "<style scoped>\n",
       "    .dataframe tbody tr th:only-of-type {\n",
       "        vertical-align: middle;\n",
       "    }\n",
       "\n",
       "    .dataframe tbody tr th {\n",
       "        vertical-align: top;\n",
       "    }\n",
       "\n",
       "    .dataframe thead th {\n",
       "        text-align: right;\n",
       "    }\n",
       "</style>\n",
       "<table border=\"1\" class=\"dataframe\">\n",
       "  <thead>\n",
       "    <tr style=\"text-align: right;\">\n",
       "      <th></th>\n",
       "      <th>Coef</th>\n",
       "      <th>Std err</th>\n",
       "      <th>t</th>\n",
       "      <th>p-value</th>\n",
       "    </tr>\n",
       "  </thead>\n",
       "  <tbody>\n",
       "    <tr>\n",
       "      <th>0</th>\n",
       "      <td>0.977531</td>\n",
       "      <td>0.032920</td>\n",
       "      <td>29.694360</td>\n",
       "      <td>0.0</td>\n",
       "    </tr>\n",
       "    <tr>\n",
       "      <th>1</th>\n",
       "      <td>1.027380</td>\n",
       "      <td>0.033214</td>\n",
       "      <td>30.931985</td>\n",
       "      <td>0.0</td>\n",
       "    </tr>\n",
       "    <tr>\n",
       "      <th>2</th>\n",
       "      <td>4.941687</td>\n",
       "      <td>0.033069</td>\n",
       "      <td>149.435252</td>\n",
       "      <td>0.0</td>\n",
       "    </tr>\n",
       "  </tbody>\n",
       "</table>\n",
       "</div>"
      ],
      "text/plain": [
       "       Coef   Std err           t  p-value\n",
       "0  0.977531  0.032920   29.694360      0.0\n",
       "1  1.027380  0.033214   30.931985      0.0\n",
       "2  4.941687  0.033069  149.435252      0.0"
      ]
     },
     "execution_count": 22,
     "metadata": {},
     "output_type": "execute_result"
    }
   ],
   "source": [
    "class data_generate_process:\n",
    "    def __init__(self, x, y):\n",
    "        self.x = x\n",
    "        self.y = y    \n",
    "        \n",
    "    def split(self, rate = 0.7, random = 1024, scale = False):\n",
    "        ## Feature scaling is used to normalize the range of independent variables or features of data\n",
    "        if scale:\n",
    "            x = (x - np.mean(x))/x.std()\n",
    "        \n",
    "        n = len(y)\n",
    "        random.seed(random)\n",
    "        \n",
    "        ##randomly spilte data into 70% train and 30% test\n",
    "        index = list[range(n)]\n",
    "        random.suffle(index)\n",
    "        train = index[:int(rate*n)]\n",
    "        test = index[int(rate*n):]\n",
    "        \n",
    "        self.train_x = x[train]\n",
    "        self.test_x = x[test]\n",
    "        self.train_y = y[train]\n",
    "        self.test_y = y[test]\n",
    "        \n",
    "        return self.train_x, self.test_x, self.train_y, self.test_y\n",
    "\n",
    "class model:\n",
    "    def __init__(self, x, y):\n",
    "        self.x = x\n",
    "        self.y = y\n",
    "    \n",
    "    def bias(self, intercept):\n",
    "        ## if need intercept, assign x0 as 1\n",
    "        if intercept:\n",
    "            n = len(self.x)\n",
    "            ones = np.ones((n,1))\n",
    "            return np.hstack([ones,self.x])\n",
    "        return self.x\n",
    "    \n",
    "    def tidy(self, x, tails = 2):\n",
    "        \n",
    "        n, k = x.shape\n",
    "        self.error = self.y - x@self.beta \n",
    "\n",
    "        self.vb = self.error.var()*np.linalg.inv(x.T@x)\n",
    "        self.se = np.sqrt(np.diagonal(self.vb)).reshape(-1,1)\n",
    "        self.t = np.divide(self.beta,self.se)\n",
    "        self.pval = tails * (1 - stats.norm.cdf(self.t))\n",
    "        \n",
    "        names = ['Coef','Std err','t','p-value']\n",
    "        values = [self.beta, self.se, self.t, self.pval]\n",
    "        values = np.hstack(values)\n",
    "        \n",
    "        self.summary = pd.DataFrame(values, columns =names)\n",
    "\n",
    "        self.rsq = 1 - self.error.var()/self.y.var()\n",
    "        self.adjrsq = self.rsq*(n -1)/(n-k-1)\n",
    "        \n",
    "        var = self.error.var()\n",
    "        ## sum function here is useless, but just in order to get a list, rather than a list in a list\n",
    "        ## in this case, it's easily to plot graph\n",
    "        self.sse = sum(self.error.T@self.error)\n",
    "        \n",
    "        logl = -n/2*np.log(2*var*math.pi) - 1/2/var*self.sse\n",
    "        self.logl = logl.tolist()\n",
    "        \n",
    "        self.aic = -2*(logl)+ 2*k \n",
    "        self.bic = -2*(logl)+ k*np.log(n) \n",
    "        \n",
    "        names = ['r.squared','adj.rsq','df','loglikehood','aic','bic']\n",
    "        values = [self.rsq,self.adjrsq,n-k-1,logl,self.aic,self.bic]\n",
    "        glance= pd.DataFrame(columns = ['r.squared','adj.rsq','df','loglikehood','aic','bic'])\n",
    "        glance.loc[0] = values\n",
    "        \n",
    "        self.glance = glance \n",
    "        return  self.summary\n",
    "    \n",
    "    def least_square(self, intercept = False):\n",
    "        x = self.bias(intercept)\n",
    "        \n",
    "        xx = x.T@x\n",
    "        xy = x.T@y\n",
    "        \n",
    "        self.beta = np.linalg.solve(xx,xy)\n",
    "        return self.tidy(x)\n",
    "    \n",
    "    def ridge(self, intercept = False, lumda = 0.2):\n",
    "        x = self.bias(intercept)\n",
    "        \n",
    "        I = lumda*np.identity(x.shape[1])\n",
    "        xy = x.T@y\n",
    "        xx = x.T@x\n",
    "        self.beta = np.linalg.inv(xx+ I)@xy\n",
    "        return self.tidy(x)\n",
    "    \n",
    "    \n",
    "    def gradient_descent(self, learning_rate = 0.01, iterations = 1000, threshold = 1e-5, intercept = False, random =False):\n",
    "\n",
    "        x = self.bias(intercept)\n",
    "        m, n = np.shape(x)\n",
    "        \n",
    "        if random:\n",
    "                ## random start\n",
    "            beta = np.random.randn(n).reshape(-1,1)\n",
    "        else:\n",
    "            ## init beta = [1,1,1]\n",
    "            beta = np.ones(n).reshape(-1,1)  \n",
    "\n",
    "        for i in range(iterations):\n",
    "\n",
    "            error = x@beta - y\n",
    "            update = - (1/m)*learning_rate*x.T@error\n",
    "            beta += update\n",
    "            \n",
    "            ## threshold measure if learning step is accuracy\n",
    "            if np.abs(update).sum()< threshold:\n",
    "                self.beta = beta\n",
    "                return self.tidy(x)\n",
    "        return Exception('Gradient did not converge')\n",
    "\n",
    "ols = model(x,y)\n",
    "ols.least_square()"
   ]
  },
  {
   "cell_type": "code",
   "execution_count": 23,
   "metadata": {},
   "outputs": [
    {
     "data": {
      "text/html": [
       "<div>\n",
       "<style scoped>\n",
       "    .dataframe tbody tr th:only-of-type {\n",
       "        vertical-align: middle;\n",
       "    }\n",
       "\n",
       "    .dataframe tbody tr th {\n",
       "        vertical-align: top;\n",
       "    }\n",
       "\n",
       "    .dataframe thead th {\n",
       "        text-align: right;\n",
       "    }\n",
       "</style>\n",
       "<table border=\"1\" class=\"dataframe\">\n",
       "  <thead>\n",
       "    <tr style=\"text-align: right;\">\n",
       "      <th></th>\n",
       "      <th>r.squared</th>\n",
       "      <th>adj.rsq</th>\n",
       "      <th>df</th>\n",
       "      <th>loglikehood</th>\n",
       "      <th>aic</th>\n",
       "      <th>bic</th>\n",
       "    </tr>\n",
       "  </thead>\n",
       "  <tbody>\n",
       "    <tr>\n",
       "      <th>0</th>\n",
       "      <td>0.960745</td>\n",
       "      <td>0.963639</td>\n",
       "      <td>996</td>\n",
       "      <td>[-1442.2894414394386]</td>\n",
       "      <td>[2890.5788828788773]</td>\n",
       "      <td>[2905.3021487158235]</td>\n",
       "    </tr>\n",
       "  </tbody>\n",
       "</table>\n",
       "</div>"
      ],
      "text/plain": [
       "   r.squared   adj.rsq   df            loglikehood                   aic  \\\n",
       "0   0.960745  0.963639  996  [-1442.2894414394386]  [2890.5788828788773]   \n",
       "\n",
       "                    bic  \n",
       "0  [2905.3021487158235]  "
      ]
     },
     "execution_count": 23,
     "metadata": {},
     "output_type": "execute_result"
    }
   ],
   "source": [
    "ols.glance"
   ]
  },
  {
   "cell_type": "code",
   "execution_count": 24,
   "metadata": {},
   "outputs": [
    {
     "name": "stdout",
     "output_type": "stream",
     "text": [
      "                                 OLS Regression Results                                \n",
      "=======================================================================================\n",
      "Dep. Variable:                      y   R-squared (uncentered):                   0.961\n",
      "Model:                            OLS   Adj. R-squared (uncentered):              0.961\n",
      "Method:                 Least Squares   F-statistic:                              8130.\n",
      "Date:                Sun, 05 Apr 2020   Prob (F-statistic):                        0.00\n",
      "Time:                        03:31:43   Log-Likelihood:                         -1442.3\n",
      "No. Observations:                1000   AIC:                                      2891.\n",
      "Df Residuals:                     997   BIC:                                      2905.\n",
      "Df Model:                           3                                                  \n",
      "Covariance Type:            nonrobust                                                  \n",
      "==============================================================================\n",
      "                 coef    std err          t      P>|t|      [0.025      0.975]\n",
      "------------------------------------------------------------------------------\n",
      "x1             0.9775      0.033     29.632      0.000       0.913       1.042\n",
      "x2             1.0274      0.033     30.867      0.000       0.962       1.093\n",
      "x3             4.9417      0.033    149.122      0.000       4.877       5.007\n",
      "==============================================================================\n",
      "Omnibus:                        6.460   Durbin-Watson:                   1.937\n",
      "Prob(Omnibus):                  0.040   Jarque-Bera (JB):                6.345\n",
      "Skew:                           0.187   Prob(JB):                       0.0419\n",
      "Kurtosis:                       3.109   Cond. No.                         1.04\n",
      "==============================================================================\n",
      "\n",
      "Warnings:\n",
      "[1] Standard Errors assume that the covariance matrix of the errors is correctly specified.\n"
     ]
    }
   ],
   "source": [
    "import statsmodels.api as sm\n",
    "\n",
    "results = sm.OLS(y, x).fit()\n",
    "# Inspect the results and compared to the result in the package I built\n",
    "print(results.summary())\n",
    "## it's the same between OLS and this package"
   ]
  },
  {
   "cell_type": "code",
   "execution_count": 25,
   "metadata": {},
   "outputs": [
    {
     "data": {
      "text/html": [
       "<div>\n",
       "<style scoped>\n",
       "    .dataframe tbody tr th:only-of-type {\n",
       "        vertical-align: middle;\n",
       "    }\n",
       "\n",
       "    .dataframe tbody tr th {\n",
       "        vertical-align: top;\n",
       "    }\n",
       "\n",
       "    .dataframe thead th {\n",
       "        text-align: right;\n",
       "    }\n",
       "</style>\n",
       "<table border=\"1\" class=\"dataframe\">\n",
       "  <thead>\n",
       "    <tr style=\"text-align: right;\">\n",
       "      <th></th>\n",
       "      <th>Coef</th>\n",
       "      <th>Std err</th>\n",
       "      <th>t</th>\n",
       "      <th>p-value</th>\n",
       "    </tr>\n",
       "  </thead>\n",
       "  <tbody>\n",
       "    <tr>\n",
       "      <th>0</th>\n",
       "      <td>0.977531</td>\n",
       "      <td>0.032920</td>\n",
       "      <td>29.694360</td>\n",
       "      <td>0.0</td>\n",
       "    </tr>\n",
       "    <tr>\n",
       "      <th>1</th>\n",
       "      <td>1.027380</td>\n",
       "      <td>0.033214</td>\n",
       "      <td>30.931985</td>\n",
       "      <td>0.0</td>\n",
       "    </tr>\n",
       "    <tr>\n",
       "      <th>2</th>\n",
       "      <td>4.941687</td>\n",
       "      <td>0.033069</td>\n",
       "      <td>149.435252</td>\n",
       "      <td>0.0</td>\n",
       "    </tr>\n",
       "  </tbody>\n",
       "</table>\n",
       "</div>"
      ],
      "text/plain": [
       "       Coef   Std err           t  p-value\n",
       "0  0.977531  0.032920   29.694360      0.0\n",
       "1  1.027380  0.033214   30.931985      0.0\n",
       "2  4.941687  0.033069  149.435252      0.0"
      ]
     },
     "execution_count": 25,
     "metadata": {},
     "output_type": "execute_result"
    }
   ],
   "source": [
    "ridge = model(x,y)\n",
    "ridge.least_square()"
   ]
  },
  {
   "cell_type": "code",
   "execution_count": 26,
   "metadata": {},
   "outputs": [
    {
     "data": {
      "text/html": [
       "<div>\n",
       "<style scoped>\n",
       "    .dataframe tbody tr th:only-of-type {\n",
       "        vertical-align: middle;\n",
       "    }\n",
       "\n",
       "    .dataframe tbody tr th {\n",
       "        vertical-align: top;\n",
       "    }\n",
       "\n",
       "    .dataframe thead th {\n",
       "        text-align: right;\n",
       "    }\n",
       "</style>\n",
       "<table border=\"1\" class=\"dataframe\">\n",
       "  <thead>\n",
       "    <tr style=\"text-align: right;\">\n",
       "      <th></th>\n",
       "      <th>r.squared</th>\n",
       "      <th>adj.rsq</th>\n",
       "      <th>df</th>\n",
       "      <th>loglikehood</th>\n",
       "      <th>aic</th>\n",
       "      <th>bic</th>\n",
       "    </tr>\n",
       "  </thead>\n",
       "  <tbody>\n",
       "    <tr>\n",
       "      <th>0</th>\n",
       "      <td>0.960745</td>\n",
       "      <td>0.963639</td>\n",
       "      <td>996</td>\n",
       "      <td>[-1442.2894414394386]</td>\n",
       "      <td>[2890.5788828788773]</td>\n",
       "      <td>[2905.3021487158235]</td>\n",
       "    </tr>\n",
       "  </tbody>\n",
       "</table>\n",
       "</div>"
      ],
      "text/plain": [
       "   r.squared   adj.rsq   df            loglikehood                   aic  \\\n",
       "0   0.960745  0.963639  996  [-1442.2894414394386]  [2890.5788828788773]   \n",
       "\n",
       "                    bic  \n",
       "0  [2905.3021487158235]  "
      ]
     },
     "execution_count": 26,
     "metadata": {},
     "output_type": "execute_result"
    }
   ],
   "source": [
    "ridge.glance"
   ]
  },
  {
   "cell_type": "code",
   "execution_count": 27,
   "metadata": {},
   "outputs": [
    {
     "data": {
      "text/html": [
       "<div>\n",
       "<style scoped>\n",
       "    .dataframe tbody tr th:only-of-type {\n",
       "        vertical-align: middle;\n",
       "    }\n",
       "\n",
       "    .dataframe tbody tr th {\n",
       "        vertical-align: top;\n",
       "    }\n",
       "\n",
       "    .dataframe thead th {\n",
       "        text-align: right;\n",
       "    }\n",
       "</style>\n",
       "<table border=\"1\" class=\"dataframe\">\n",
       "  <thead>\n",
       "    <tr style=\"text-align: right;\">\n",
       "      <th></th>\n",
       "      <th>Coef</th>\n",
       "      <th>Std err</th>\n",
       "      <th>t</th>\n",
       "      <th>p-value</th>\n",
       "    </tr>\n",
       "  </thead>\n",
       "  <tbody>\n",
       "    <tr>\n",
       "      <th>0</th>\n",
       "      <td>0.977721</td>\n",
       "      <td>0.032920</td>\n",
       "      <td>29.700097</td>\n",
       "      <td>0.0</td>\n",
       "    </tr>\n",
       "    <tr>\n",
       "      <th>1</th>\n",
       "      <td>1.027460</td>\n",
       "      <td>0.033214</td>\n",
       "      <td>30.934343</td>\n",
       "      <td>0.0</td>\n",
       "    </tr>\n",
       "    <tr>\n",
       "      <th>2</th>\n",
       "      <td>4.940888</td>\n",
       "      <td>0.033069</td>\n",
       "      <td>149.410815</td>\n",
       "      <td>0.0</td>\n",
       "    </tr>\n",
       "  </tbody>\n",
       "</table>\n",
       "</div>"
      ],
      "text/plain": [
       "       Coef   Std err           t  p-value\n",
       "0  0.977721  0.032920   29.700097      0.0\n",
       "1  1.027460  0.033214   30.934343      0.0\n",
       "2  4.940888  0.033069  149.410815      0.0"
      ]
     },
     "execution_count": 27,
     "metadata": {},
     "output_type": "execute_result"
    }
   ],
   "source": [
    "gradient_descent = model(x,y)\n",
    "gradient_descent.gradient_descent()"
   ]
  },
  {
   "cell_type": "code",
   "execution_count": 28,
   "metadata": {},
   "outputs": [
    {
     "data": {
      "text/html": [
       "<div>\n",
       "<style scoped>\n",
       "    .dataframe tbody tr th:only-of-type {\n",
       "        vertical-align: middle;\n",
       "    }\n",
       "\n",
       "    .dataframe tbody tr th {\n",
       "        vertical-align: top;\n",
       "    }\n",
       "\n",
       "    .dataframe thead th {\n",
       "        text-align: right;\n",
       "    }\n",
       "</style>\n",
       "<table border=\"1\" class=\"dataframe\">\n",
       "  <thead>\n",
       "    <tr style=\"text-align: right;\">\n",
       "      <th></th>\n",
       "      <th>r.squared</th>\n",
       "      <th>adj.rsq</th>\n",
       "      <th>df</th>\n",
       "      <th>loglikehood</th>\n",
       "      <th>aic</th>\n",
       "      <th>bic</th>\n",
       "    </tr>\n",
       "  </thead>\n",
       "  <tbody>\n",
       "    <tr>\n",
       "      <th>0</th>\n",
       "      <td>0.960745</td>\n",
       "      <td>0.963639</td>\n",
       "      <td>996</td>\n",
       "      <td>[-1442.2897461981065]</td>\n",
       "      <td>[2890.579492396213]</td>\n",
       "      <td>[2905.3027582331592]</td>\n",
       "    </tr>\n",
       "  </tbody>\n",
       "</table>\n",
       "</div>"
      ],
      "text/plain": [
       "   r.squared   adj.rsq   df            loglikehood                  aic  \\\n",
       "0   0.960745  0.963639  996  [-1442.2897461981065]  [2890.579492396213]   \n",
       "\n",
       "                    bic  \n",
       "0  [2905.3027582331592]  "
      ]
     },
     "execution_count": 28,
     "metadata": {},
     "output_type": "execute_result"
    }
   ],
   "source": [
    "gradient_descent.glance"
   ]
  },
  {
   "cell_type": "code",
   "execution_count": 29,
   "metadata": {},
   "outputs": [
    {
     "data": {
      "text/html": [
       "<div>\n",
       "<style scoped>\n",
       "    .dataframe tbody tr th:only-of-type {\n",
       "        vertical-align: middle;\n",
       "    }\n",
       "\n",
       "    .dataframe tbody tr th {\n",
       "        vertical-align: top;\n",
       "    }\n",
       "\n",
       "    .dataframe thead th {\n",
       "        text-align: right;\n",
       "    }\n",
       "</style>\n",
       "<table border=\"1\" class=\"dataframe\">\n",
       "  <thead>\n",
       "    <tr style=\"text-align: right;\">\n",
       "      <th></th>\n",
       "      <th>Coef</th>\n",
       "      <th>Std err</th>\n",
       "      <th>t</th>\n",
       "      <th>p-value</th>\n",
       "    </tr>\n",
       "  </thead>\n",
       "  <tbody>\n",
       "    <tr>\n",
       "      <th>0</th>\n",
       "      <td>0.977414</td>\n",
       "      <td>0.032920</td>\n",
       "      <td>29.690778</td>\n",
       "      <td>0.0</td>\n",
       "    </tr>\n",
       "    <tr>\n",
       "      <th>1</th>\n",
       "      <td>1.027450</td>\n",
       "      <td>0.033214</td>\n",
       "      <td>30.934031</td>\n",
       "      <td>0.0</td>\n",
       "    </tr>\n",
       "    <tr>\n",
       "      <th>2</th>\n",
       "      <td>4.940871</td>\n",
       "      <td>0.033069</td>\n",
       "      <td>149.410297</td>\n",
       "      <td>0.0</td>\n",
       "    </tr>\n",
       "  </tbody>\n",
       "</table>\n",
       "</div>"
      ],
      "text/plain": [
       "       Coef   Std err           t  p-value\n",
       "0  0.977414  0.032920   29.690778      0.0\n",
       "1  1.027450  0.033214   30.934031      0.0\n",
       "2  4.940871  0.033069  149.410297      0.0"
      ]
     },
     "execution_count": 29,
     "metadata": {},
     "output_type": "execute_result"
    }
   ],
   "source": [
    "random_gradient_descent = model(x,y)\n",
    "random_gradient_descent.gradient_descent(random = True)"
   ]
  },
  {
   "cell_type": "code",
   "execution_count": 30,
   "metadata": {},
   "outputs": [
    {
     "data": {
      "text/html": [
       "<div>\n",
       "<style scoped>\n",
       "    .dataframe tbody tr th:only-of-type {\n",
       "        vertical-align: middle;\n",
       "    }\n",
       "\n",
       "    .dataframe tbody tr th {\n",
       "        vertical-align: top;\n",
       "    }\n",
       "\n",
       "    .dataframe thead th {\n",
       "        text-align: right;\n",
       "    }\n",
       "</style>\n",
       "<table border=\"1\" class=\"dataframe\">\n",
       "  <thead>\n",
       "    <tr style=\"text-align: right;\">\n",
       "      <th></th>\n",
       "      <th>r.squared</th>\n",
       "      <th>adj.rsq</th>\n",
       "      <th>df</th>\n",
       "      <th>loglikehood</th>\n",
       "      <th>aic</th>\n",
       "      <th>bic</th>\n",
       "    </tr>\n",
       "  </thead>\n",
       "  <tbody>\n",
       "    <tr>\n",
       "      <th>0</th>\n",
       "      <td>0.960745</td>\n",
       "      <td>0.963639</td>\n",
       "      <td>996</td>\n",
       "      <td>[-1442.2897547739713]</td>\n",
       "      <td>[2890.5795095479425]</td>\n",
       "      <td>[2905.3027753848887]</td>\n",
       "    </tr>\n",
       "  </tbody>\n",
       "</table>\n",
       "</div>"
      ],
      "text/plain": [
       "   r.squared   adj.rsq   df            loglikehood                   aic  \\\n",
       "0   0.960745  0.963639  996  [-1442.2897547739713]  [2890.5795095479425]   \n",
       "\n",
       "                    bic  \n",
       "0  [2905.3027753848887]  "
      ]
     },
     "execution_count": 30,
     "metadata": {},
     "output_type": "execute_result"
    }
   ],
   "source": [
    "random_gradient_descent.glance"
   ]
  },
  {
   "cell_type": "code",
   "execution_count": null,
   "metadata": {},
   "outputs": [],
   "source": []
  },
  {
   "cell_type": "code",
   "execution_count": 31,
   "metadata": {},
   "outputs": [
    {
     "data": {
      "text/plain": [
       "[<matplotlib.lines.Line2D at 0x280042cc898>]"
      ]
     },
     "execution_count": 31,
     "metadata": {},
     "output_type": "execute_result"
    },
    {
     "data": {
      "image/png": "[encoded data removed]",
      "text/plain": [
       "<Figure size 432x288 with 1 Axes>"
      ]
     },
     "metadata": {
      "needs_background": "light"
     },
     "output_type": "display_data"
    }
   ],
   "source": [
    "### 1.compared by AIC\n",
    "algorithms = [ols, ridge, gradient_descent, random_gradient_descent]\n",
    "names  = ['ols', 'ridge', 'GD', 'RGD']\n",
    "criterion = [item.aic for item in algorithms]\n",
    "plt.title('aic')\n",
    "plt.plot(names , criterion)\n"
   ]
  },
  {
   "cell_type": "code",
   "execution_count": 32,
   "metadata": {},
   "outputs": [
    {
     "data": {
      "text/plain": [
       "[<matplotlib.lines.Line2D at 0x28004350b00>]"
      ]
     },
     "execution_count": 32,
     "metadata": {},
     "output_type": "execute_result"
    },
    {
     "data": {
      "image/png": "[encoded data removed]",
      "text/plain": [
       "<Figure size 432x288 with 1 Axes>"
      ]
     },
     "metadata": {
      "needs_background": "light"
     },
     "output_type": "display_data"
    }
   ],
   "source": [
    "### 2.compared by bic\n",
    "criterion = [item.bic for item in algorithms]\n",
    "plt.title('bic')\n",
    "plt.plot(names , criterion)"
   ]
  },
  {
   "cell_type": "code",
   "execution_count": 33,
   "metadata": {},
   "outputs": [
    {
     "data": {
      "text/plain": [
       "[<matplotlib.lines.Line2D at 0x280043a1e10>]"
      ]
     },
     "execution_count": 33,
     "metadata": {},
     "output_type": "execute_result"
    },
    {
     "data": {
      "image/png": "[encoded data removed]",
      "text/plain": [
       "<Figure size 432x288 with 1 Axes>"
      ]
     },
     "metadata": {
      "needs_background": "light"
     },
     "output_type": "display_data"
    }
   ],
   "source": [
    "### 3.compared by adjrsq\n",
    "criterion = [item.adjrsq for item in algorithms]\n",
    "plt.title('adjrsq')\n",
    "plt.plot(names , criterion)"
   ]
  },
  {
   "cell_type": "code",
   "execution_count": 34,
   "metadata": {},
   "outputs": [
    {
     "data": {
      "text/plain": [
       "[<matplotlib.lines.Line2D at 0x280043f3898>]"
      ]
     },
     "execution_count": 34,
     "metadata": {},
     "output_type": "execute_result"
    },
    {
     "data": {
      "image/png": "[encoded data removed]",
      "text/plain": [
       "<Figure size 432x288 with 1 Axes>"
      ]
     },
     "metadata": {
      "needs_background": "light"
     },
     "output_type": "display_data"
    }
   ],
   "source": [
    "### 4.compared by beta.var\n",
    "criterion = [(item.beta - b).var() for item in algorithms]\n",
    "plt.title('(beta - real).var')\n",
    "plt.plot(names , criterion)"
   ]
  },
  {
   "cell_type": "code",
   "execution_count": null,
   "metadata": {},
   "outputs": [],
   "source": []
  },
  {
   "cell_type": "code",
   "execution_count": null,
   "metadata": {},
   "outputs": [],
   "source": []
  }
 ],
 "metadata": {
  "kernelspec": {
   "display_name": "Python 3",
   "language": "python",
   "name": "python3"
  },
  "language_info": {
   "codemirror_mode": {
    "name": "ipython",
    "version": 3
   },
   "file_extension": ".py",
   "mimetype": "text/x-python",
   "name": "python",
   "nbconvert_exporter": "python",
   "pygments_lexer": "ipython3",
   "version": "3.7.3"
  }
 },
 "nbformat": 4,
 "nbformat_minor": 2
}
