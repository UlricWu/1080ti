{
 "cells": [
  {
   "cell_type": "code",
   "execution_count": 23,
   "metadata": {},
   "outputs": [],
   "source": [
    "import requests\n",
    "from bs4 import BeautifulSoup\n",
    "def getlinks(links):\n",
    "    req = requests.get(links)\n",
    "    return BeautifulSoup(req.text,'lxml')\n",
    "\n",
    "def getName(links):\n",
    "    soup = getlinks(links)\n",
    "    web=[]\n",
    "    temp = []\n",
    "    url = 'https://www.straussart.co.za/artists/view/'\n",
    "    \n",
    "    for link in soup.find_all('a'):\n",
    "        if not link.get('href'): continue\n",
    "            \n",
    "        if link.get('href')[:4]=='http':\n",
    "            temp = link.get('href')\n",
    "        else:\n",
    "            temp = links+link.get('href')\n",
    "        ## filter anything that are not the artist's names    \n",
    "        if url in temp:\n",
    "            web.append(temp)\n",
    "        ## return unique artist's names  \n",
    "    return list(set(web))\n",
    "\n",
    "def getDate(links):\n",
    "\n",
    "    soup = getlinks(links)\n",
    "    \n",
    "    ## title2 of website is the name of an artist\n",
    "    name = (soup.h2.contents[0])\n",
    "    try:\n",
    "        date = soup.p.contents[0]\n",
    "    except:\n",
    "        date = 'Na'\n",
    "    \n",
    "    return [name, date]"
   ]
  },
  {
   "cell_type": "code",
   "execution_count": 24,
   "metadata": {},
   "outputs": [],
   "source": [
    "alphas = ['a-b','c-f','g-k','l-m','n-r','s-t','u-z']\n",
    "url = 'https://www.straussart.co.za/artists/live/'\n",
    "artists = []\n",
    "names = []\n",
    "for alpha in alphas:\n",
    "    names.append(getName(url+alpha))\n",
    "names = [x for y in names for x in y]\n",
    "for name in names:\n",
    "    artists.append(getDate(name))"
   ]
  },
  {
   "cell_type": "code",
   "execution_count": 421,
   "metadata": {},
   "outputs": [],
   "source": [
    "results =[]\n",
    "for artist in artists:\n",
    "    if 'South African' not in artist[1]:\n",
    "        continue\n",
    "    ##All I need is the artists from South African, so I just filter it. \n",
    "    ## the numbers of total artists are 650 from SA.\n",
    "    results.append([artist[0], artist[1].replace('South African','')])"
   ]
  },
  {
   "cell_type": "code",
   "execution_count": 423,
   "metadata": {},
   "outputs": [
    {
     "data": {
      "text/plain": [
       "(867, 650)"
      ]
     },
     "execution_count": 423,
     "metadata": {},
     "output_type": "execute_result"
    }
   ],
   "source": [
    "len(artists),len(results)"
   ]
  },
  {
   "cell_type": "code",
   "execution_count": 424,
   "metadata": {},
   "outputs": [],
   "source": [
    "import csv\n",
    "with open(\"out.csv\", \"w\", newline=\"\") as f:\n",
    "    writer = csv.writer(f)\n",
    "    writer.writerows(results)"
   ]
  }
 ],
 "metadata": {
  "kernelspec": {
   "display_name": "Python 3",
   "language": "python",
   "name": "python3"
  },
  "language_info": {
   "codemirror_mode": {
    "name": "ipython",
    "version": 3
   },
   "file_extension": ".py",
   "mimetype": "text/x-python",
   "name": "python",
   "nbconvert_exporter": "python",
   "pygments_lexer": "ipython3",
   "version": "3.7.3"
  }
 },
 "nbformat": 4,
 "nbformat_minor": 2
}
