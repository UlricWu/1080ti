{
 "cells": [
  {
   "cell_type": "code",
   "execution_count": 1,
   "metadata": {},
   "outputs": [],
   "source": [
    "import numpy as np\n",
    "import pandas as pd\n",
    "from scipy import stats\n",
    "import random\n",
    "import math\n",
    "import matplotlib.pyplot as plt\n",
    "\n",
    "## random generate numbers\n",
    "n = 10000\n",
    "d = 10\n",
    "x = np.random.normal(size=(n,d))\n",
    "error = np.random.normal(size=(n,1))\n",
    "\n",
    "b = np.random.uniform(size=(d,1))\n",
    "\n",
    "### in order to avoid Perfect Separation, we need to add some noise\n",
    "y = x@b + error"
   ]
  },
  {
   "cell_type": "code",
   "execution_count": 2,
   "metadata": {},
   "outputs": [],
   "source": [
    "class data_generate_process:\n",
    "    def __init__(self, x, y):\n",
    "        self.x = x\n",
    "        self.y = y    \n",
    "        \n",
    "    def split(self, rate = 0.7, random_state = 1024, scale = False):\n",
    "        ## Feature scaling is used to normalize the range of independent variables or features of data\n",
    "        if scale:\n",
    "            self.x = (self.x - np.mean(self.x))/x.std()\n",
    "        \n",
    "        n = len(self.y)\n",
    "        np.random.seed(random_state)\n",
    "        \n",
    "        ##randomly spilte data into 70% train and 30% test\n",
    "        index = list(range(n))\n",
    "        np.random.shuffle(index)\n",
    "        train = index[:int(rate*n)]\n",
    "        test = index[int(rate*n):]\n",
    "        \n",
    "        self.train_x = self.x[train]\n",
    "        self.test_x = self.x[test]\n",
    "        self.train_y = self.y[train]\n",
    "        self.test_y = self.y[test]\n",
    "        \n",
    "        return self.train_x, self.test_x, self.train_y, self.test_y\n",
    "\n",
    "class model:\n",
    "    def __init__(self, x, y):\n",
    "        self.x = x\n",
    "        self.y = y\n",
    "    \n",
    "    def bias(self, intercept):\n",
    "        ## if need intercept, add column x0 as 1\n",
    "        if intercept:\n",
    "            n = len(self.x)\n",
    "            ones = np.ones((n,1))\n",
    "            return np.hstack([ones,self.x])\n",
    "        return self.x\n",
    "    \n",
    "    def tidy(self, x, tails = 2):\n",
    "        \n",
    "        n, k = x.shape\n",
    "        self.error = self.y - x@self.beta \n",
    "\n",
    "        self.vb = self.error.var()*np.linalg.inv(x.T@x)\n",
    "        self.se = np.sqrt(np.diagonal(self.vb)).reshape(-1,1)\n",
    "        self.t = np.divide(self.beta,self.se)\n",
    "        self.pval = tails * (1 - stats.norm.cdf(self.t))\n",
    "        \n",
    "        names = ['Coef','Std err','t','p-value']\n",
    "        values = [self.beta, self.se, self.t, self.pval]\n",
    "        values = np.hstack(values)\n",
    "        \n",
    "        self.summary = pd.DataFrame(values, columns =names)\n",
    "\n",
    "        self.rsq = 1 - self.error.var()/self.y.var()\n",
    "        self.adjrsq = self.rsq*(n -1)/(n-k-1)\n",
    "        \n",
    "        var = self.error.var()\n",
    "        ## sum function here is useless, but just in order to get a list, rather than a list in a list\n",
    "        ## in this case, it's easily to plot graph\n",
    "        self.sse = sum(self.error.T@self.error)\n",
    "        \n",
    "        logl = -n/2*np.log(2*var*math.pi) - 1/2/var*self.sse\n",
    "        self.logl = logl.tolist()\n",
    "        \n",
    "        self.aic = -2*(logl)+ 2*k \n",
    "        self.bic = -2*(logl)+ k*np.log(n) \n",
    "        \n",
    "        names = ['r.squared','adj.rsq','df','loglikehood','aic','bic']\n",
    "        values = [self.rsq,self.adjrsq,n-k-1,logl,self.aic,self.bic]\n",
    "        glance= pd.DataFrame(columns = ['r.squared','adj.rsq','df','loglikehood','aic','bic'])\n",
    "        glance.loc[0] = values\n",
    "        \n",
    "        self.glance = glance \n",
    "        return  self.summary\n",
    "    \n",
    "    def least_square(self, intercept = False):\n",
    "        x = self.bias(intercept)\n",
    "        \n",
    "        xx = x.T@x\n",
    "        xy = x.T@self.y\n",
    "        \n",
    "        self.beta = np.linalg.solve(xx,xy)\n",
    "        return self.tidy(x)\n",
    "    \n",
    "    def ridge(self, intercept = False, lumda = 0.2):\n",
    "        x = self.bias(intercept)\n",
    "        \n",
    "        I = lumda*np.identity(x.shape[1])\n",
    "        xy = x.T@self.y\n",
    "        xx = x.T@x\n",
    "        self.beta = np.linalg.inv(xx+ I)@xy\n",
    "        return self.tidy(x)\n",
    "    \n",
    "    \n",
    "    def gradient_descent(self, learning_rate = 0.01, iterations = 10000, threshold = 1e-5, intercept = False, random =False):\n",
    "\n",
    "        x = self.bias(intercept)\n",
    "        m, n = np.shape(x)\n",
    "        \n",
    "        if random:\n",
    "                ## random start\n",
    "            beta = np.random.randn(n).reshape(-1,1)\n",
    "        else:\n",
    "            ## init beta = [1,1,1]\n",
    "            beta = np.ones(n).reshape(-1,1)  \n",
    "        \n",
    "        for i in range(iterations):\n",
    "\n",
    "            error = x@beta - self.y\n",
    "            update = - (1/m)*learning_rate*x.T@error\n",
    "            beta += update\n",
    "            \n",
    "            ## threshold measure if learning step is accuracy\n",
    "            if np.abs(update).sum()< threshold:\n",
    "                self.beta = beta\n",
    "                return self.tidy(x)\n",
    "            \n",
    "        return Exception('Gradient did not converge')\n",
    "    \n",
    "    def predict(self, x, beta = None):\n",
    "        if beta is None:\n",
    "            return x@self.beta\n",
    "        \n",
    "        return x@beta\n",
    "    \n",
    "    def performance(self, test_y, y_pred):\n",
    "        ### sum function makeds nothing but return a value that makes it easier to plot \n",
    "        return sum((test_y - y_pred).T@(test_y - y_pred))\n",
    "        \n",
    "            \n",
    "train_x, test_x, train_y, test_y = data_generate_process(x, y).split()"
   ]
  },
  {
   "cell_type": "markdown",
   "metadata": {},
   "source": [
    "## Ordinary Least Square\n",
    "$Beta = {(XX')} ^{-1}XY $\n",
    "## Ridge\n",
    "$Beta = {(XX'+ I)} ^{-1}XY $\n",
    "## Gradient Descent\n",
    "$Beta = Beta + learningRate * X' Error$\n"
   ]
  },
  {
   "cell_type": "code",
   "execution_count": 3,
   "metadata": {},
   "outputs": [
    {
     "data": {
      "text/html": [
       "<div>\n",
       "<style scoped>\n",
       "    .dataframe tbody tr th:only-of-type {\n",
       "        vertical-align: middle;\n",
       "    }\n",
       "\n",
       "    .dataframe tbody tr th {\n",
       "        vertical-align: top;\n",
       "    }\n",
       "\n",
       "    .dataframe thead th {\n",
       "        text-align: right;\n",
       "    }\n",
       "</style>\n",
       "<table border=\"1\" class=\"dataframe\">\n",
       "  <thead>\n",
       "    <tr style=\"text-align: right;\">\n",
       "      <th></th>\n",
       "      <th>Coef</th>\n",
       "      <th>Std err</th>\n",
       "      <th>t</th>\n",
       "      <th>p-value</th>\n",
       "    </tr>\n",
       "  </thead>\n",
       "  <tbody>\n",
       "    <tr>\n",
       "      <th>0</th>\n",
       "      <td>0.568921</td>\n",
       "      <td>0.011592</td>\n",
       "      <td>49.079583</td>\n",
       "      <td>0.000000e+00</td>\n",
       "    </tr>\n",
       "    <tr>\n",
       "      <th>1</th>\n",
       "      <td>0.511895</td>\n",
       "      <td>0.011722</td>\n",
       "      <td>43.671179</td>\n",
       "      <td>0.000000e+00</td>\n",
       "    </tr>\n",
       "    <tr>\n",
       "      <th>2</th>\n",
       "      <td>0.130392</td>\n",
       "      <td>0.011688</td>\n",
       "      <td>11.155703</td>\n",
       "      <td>0.000000e+00</td>\n",
       "    </tr>\n",
       "    <tr>\n",
       "      <th>3</th>\n",
       "      <td>0.923494</td>\n",
       "      <td>0.011588</td>\n",
       "      <td>79.693100</td>\n",
       "      <td>0.000000e+00</td>\n",
       "    </tr>\n",
       "    <tr>\n",
       "      <th>4</th>\n",
       "      <td>0.562558</td>\n",
       "      <td>0.011858</td>\n",
       "      <td>47.442980</td>\n",
       "      <td>0.000000e+00</td>\n",
       "    </tr>\n",
       "    <tr>\n",
       "      <th>5</th>\n",
       "      <td>0.585283</td>\n",
       "      <td>0.011628</td>\n",
       "      <td>50.334591</td>\n",
       "      <td>0.000000e+00</td>\n",
       "    </tr>\n",
       "    <tr>\n",
       "      <th>6</th>\n",
       "      <td>0.084285</td>\n",
       "      <td>0.011859</td>\n",
       "      <td>7.106970</td>\n",
       "      <td>1.186162e-12</td>\n",
       "    </tr>\n",
       "    <tr>\n",
       "      <th>7</th>\n",
       "      <td>0.794196</td>\n",
       "      <td>0.011779</td>\n",
       "      <td>67.425171</td>\n",
       "      <td>0.000000e+00</td>\n",
       "    </tr>\n",
       "    <tr>\n",
       "      <th>8</th>\n",
       "      <td>0.002680</td>\n",
       "      <td>0.011766</td>\n",
       "      <td>0.227724</td>\n",
       "      <td>8.198609e-01</td>\n",
       "    </tr>\n",
       "    <tr>\n",
       "      <th>9</th>\n",
       "      <td>0.350027</td>\n",
       "      <td>0.011939</td>\n",
       "      <td>29.319164</td>\n",
       "      <td>0.000000e+00</td>\n",
       "    </tr>\n",
       "  </tbody>\n",
       "</table>\n",
       "</div>"
      ],
      "text/plain": [
       "       Coef   Std err          t       p-value\n",
       "0  0.568921  0.011592  49.079583  0.000000e+00\n",
       "1  0.511895  0.011722  43.671179  0.000000e+00\n",
       "2  0.130392  0.011688  11.155703  0.000000e+00\n",
       "3  0.923494  0.011588  79.693100  0.000000e+00\n",
       "4  0.562558  0.011858  47.442980  0.000000e+00\n",
       "5  0.585283  0.011628  50.334591  0.000000e+00\n",
       "6  0.084285  0.011859   7.106970  1.186162e-12\n",
       "7  0.794196  0.011779  67.425171  0.000000e+00\n",
       "8  0.002680  0.011766   0.227724  8.198609e-01\n",
       "9  0.350027  0.011939  29.319164  0.000000e+00"
      ]
     },
     "execution_count": 3,
     "metadata": {},
     "output_type": "execute_result"
    }
   ],
   "source": [
    "ols = model(train_x, train_y)\n",
    "ols.least_square()"
   ]
  },
  {
   "cell_type": "code",
   "execution_count": 4,
   "metadata": {},
   "outputs": [
    {
     "data": {
      "text/html": [
       "<div>\n",
       "<style scoped>\n",
       "    .dataframe tbody tr th:only-of-type {\n",
       "        vertical-align: middle;\n",
       "    }\n",
       "\n",
       "    .dataframe tbody tr th {\n",
       "        vertical-align: top;\n",
       "    }\n",
       "\n",
       "    .dataframe thead th {\n",
       "        text-align: right;\n",
       "    }\n",
       "</style>\n",
       "<table border=\"1\" class=\"dataframe\">\n",
       "  <thead>\n",
       "    <tr style=\"text-align: right;\">\n",
       "      <th></th>\n",
       "      <th>r.squared</th>\n",
       "      <th>adj.rsq</th>\n",
       "      <th>df</th>\n",
       "      <th>loglikehood</th>\n",
       "      <th>aic</th>\n",
       "      <th>bic</th>\n",
       "    </tr>\n",
       "  </thead>\n",
       "  <tbody>\n",
       "    <tr>\n",
       "      <th>0</th>\n",
       "      <td>0.752167</td>\n",
       "      <td>0.753243</td>\n",
       "      <td>6989</td>\n",
       "      <td>[-9842.197008686257]</td>\n",
       "      <td>[19704.394017372513]</td>\n",
       "      <td>[19772.930671652888]</td>\n",
       "    </tr>\n",
       "  </tbody>\n",
       "</table>\n",
       "</div>"
      ],
      "text/plain": [
       "   r.squared   adj.rsq    df           loglikehood                   aic  \\\n",
       "0   0.752167  0.753243  6989  [-9842.197008686257]  [19704.394017372513]   \n",
       "\n",
       "                    bic  \n",
       "0  [19772.930671652888]  "
      ]
     },
     "execution_count": 4,
     "metadata": {},
     "output_type": "execute_result"
    }
   ],
   "source": [
    "ols.glance"
   ]
  },
  {
   "cell_type": "code",
   "execution_count": 5,
   "metadata": {},
   "outputs": [
    {
     "name": "stdout",
     "output_type": "stream",
     "text": [
      "                                 OLS Regression Results                                \n",
      "=======================================================================================\n",
      "Dep. Variable:                      y   R-squared (uncentered):                   0.752\n",
      "Model:                            OLS   Adj. R-squared (uncentered):              0.752\n",
      "Method:                 Least Squares   F-statistic:                              2122.\n",
      "Date:                Wed, 15 Jul 2020   Prob (F-statistic):                        0.00\n",
      "Time:                        20:32:50   Log-Likelihood:                         -9842.2\n",
      "No. Observations:                7000   AIC:                                  1.970e+04\n",
      "Df Residuals:                    6990   BIC:                                  1.977e+04\n",
      "Df Model:                          10                                                  \n",
      "Covariance Type:            nonrobust                                                  \n",
      "==============================================================================\n",
      "                 coef    std err          t      P>|t|      [0.025      0.975]\n",
      "------------------------------------------------------------------------------\n",
      "x1             0.5689      0.012     49.043      0.000       0.546       0.592\n",
      "x2             0.5119      0.012     43.638      0.000       0.489       0.535\n",
      "x3             0.1304      0.012     11.147      0.000       0.107       0.153\n",
      "x4             0.9235      0.012     79.633      0.000       0.901       0.946\n",
      "x5             0.5626      0.012     47.407      0.000       0.539       0.586\n",
      "x6             0.5853      0.012     50.297      0.000       0.562       0.608\n",
      "x7             0.0843      0.012      7.102      0.000       0.061       0.108\n",
      "x8             0.7942      0.012     67.375      0.000       0.771       0.817\n",
      "x9             0.0027      0.012      0.228      0.820      -0.020       0.026\n",
      "x10            0.3500      0.012     29.297      0.000       0.327       0.373\n",
      "==============================================================================\n",
      "Omnibus:                        0.885   Durbin-Watson:                   1.976\n",
      "Prob(Omnibus):                  0.643   Jarque-Bera (JB):                0.866\n",
      "Skew:                           0.027   Prob(JB):                        0.649\n",
      "Kurtosis:                       3.010   Cond. No.                         1.06\n",
      "==============================================================================\n",
      "\n",
      "Warnings:\n",
      "[1] Standard Errors assume that the covariance matrix of the errors is correctly specified.\n"
     ]
    }
   ],
   "source": [
    "import statsmodels.api as sm\n",
    "\n",
    "results = sm.OLS(train_y, train_x).fit()\n",
    "# Inspect the results and compared to the result in the package I built\n",
    "print(results.summary())\n",
    "## it's the same between OLS and this package"
   ]
  },
  {
   "cell_type": "code",
   "execution_count": 6,
   "metadata": {},
   "outputs": [
    {
     "data": {
      "text/html": [
       "<div>\n",
       "<style scoped>\n",
       "    .dataframe tbody tr th:only-of-type {\n",
       "        vertical-align: middle;\n",
       "    }\n",
       "\n",
       "    .dataframe tbody tr th {\n",
       "        vertical-align: top;\n",
       "    }\n",
       "\n",
       "    .dataframe thead th {\n",
       "        text-align: right;\n",
       "    }\n",
       "</style>\n",
       "<table border=\"1\" class=\"dataframe\">\n",
       "  <thead>\n",
       "    <tr style=\"text-align: right;\">\n",
       "      <th></th>\n",
       "      <th>Coef</th>\n",
       "      <th>Std err</th>\n",
       "      <th>t</th>\n",
       "      <th>p-value</th>\n",
       "    </tr>\n",
       "  </thead>\n",
       "  <tbody>\n",
       "    <tr>\n",
       "      <th>0</th>\n",
       "      <td>0.568905</td>\n",
       "      <td>0.011592</td>\n",
       "      <td>49.078256</td>\n",
       "      <td>0.000000e+00</td>\n",
       "    </tr>\n",
       "    <tr>\n",
       "      <th>1</th>\n",
       "      <td>0.511880</td>\n",
       "      <td>0.011722</td>\n",
       "      <td>43.669940</td>\n",
       "      <td>0.000000e+00</td>\n",
       "    </tr>\n",
       "    <tr>\n",
       "      <th>2</th>\n",
       "      <td>0.130389</td>\n",
       "      <td>0.011688</td>\n",
       "      <td>11.155426</td>\n",
       "      <td>0.000000e+00</td>\n",
       "    </tr>\n",
       "    <tr>\n",
       "      <th>3</th>\n",
       "      <td>0.923469</td>\n",
       "      <td>0.011588</td>\n",
       "      <td>79.690953</td>\n",
       "      <td>0.000000e+00</td>\n",
       "    </tr>\n",
       "    <tr>\n",
       "      <th>4</th>\n",
       "      <td>0.562542</td>\n",
       "      <td>0.011858</td>\n",
       "      <td>47.441633</td>\n",
       "      <td>0.000000e+00</td>\n",
       "    </tr>\n",
       "    <tr>\n",
       "      <th>5</th>\n",
       "      <td>0.585266</td>\n",
       "      <td>0.011628</td>\n",
       "      <td>50.333139</td>\n",
       "      <td>0.000000e+00</td>\n",
       "    </tr>\n",
       "    <tr>\n",
       "      <th>6</th>\n",
       "      <td>0.084283</td>\n",
       "      <td>0.011859</td>\n",
       "      <td>7.106823</td>\n",
       "      <td>1.187495e-12</td>\n",
       "    </tr>\n",
       "    <tr>\n",
       "      <th>7</th>\n",
       "      <td>0.794173</td>\n",
       "      <td>0.011779</td>\n",
       "      <td>67.423261</td>\n",
       "      <td>0.000000e+00</td>\n",
       "    </tr>\n",
       "    <tr>\n",
       "      <th>8</th>\n",
       "      <td>0.002679</td>\n",
       "      <td>0.011766</td>\n",
       "      <td>0.227704</td>\n",
       "      <td>8.198760e-01</td>\n",
       "    </tr>\n",
       "    <tr>\n",
       "      <th>9</th>\n",
       "      <td>0.350017</td>\n",
       "      <td>0.011939</td>\n",
       "      <td>29.318342</td>\n",
       "      <td>0.000000e+00</td>\n",
       "    </tr>\n",
       "  </tbody>\n",
       "</table>\n",
       "</div>"
      ],
      "text/plain": [
       "       Coef   Std err          t       p-value\n",
       "0  0.568905  0.011592  49.078256  0.000000e+00\n",
       "1  0.511880  0.011722  43.669940  0.000000e+00\n",
       "2  0.130389  0.011688  11.155426  0.000000e+00\n",
       "3  0.923469  0.011588  79.690953  0.000000e+00\n",
       "4  0.562542  0.011858  47.441633  0.000000e+00\n",
       "5  0.585266  0.011628  50.333139  0.000000e+00\n",
       "6  0.084283  0.011859   7.106823  1.187495e-12\n",
       "7  0.794173  0.011779  67.423261  0.000000e+00\n",
       "8  0.002679  0.011766   0.227704  8.198760e-01\n",
       "9  0.350017  0.011939  29.318342  0.000000e+00"
      ]
     },
     "execution_count": 6,
     "metadata": {},
     "output_type": "execute_result"
    }
   ],
   "source": [
    "ridge = model(train_x, train_y)\n",
    "ridge.ridge()"
   ]
  },
  {
   "cell_type": "code",
   "execution_count": 7,
   "metadata": {},
   "outputs": [
    {
     "data": {
      "text/html": [
       "<div>\n",
       "<style scoped>\n",
       "    .dataframe tbody tr th:only-of-type {\n",
       "        vertical-align: middle;\n",
       "    }\n",
       "\n",
       "    .dataframe tbody tr th {\n",
       "        vertical-align: top;\n",
       "    }\n",
       "\n",
       "    .dataframe thead th {\n",
       "        text-align: right;\n",
       "    }\n",
       "</style>\n",
       "<table border=\"1\" class=\"dataframe\">\n",
       "  <thead>\n",
       "    <tr style=\"text-align: right;\">\n",
       "      <th></th>\n",
       "      <th>r.squared</th>\n",
       "      <th>adj.rsq</th>\n",
       "      <th>df</th>\n",
       "      <th>loglikehood</th>\n",
       "      <th>aic</th>\n",
       "      <th>bic</th>\n",
       "    </tr>\n",
       "  </thead>\n",
       "  <tbody>\n",
       "    <tr>\n",
       "      <th>0</th>\n",
       "      <td>0.752167</td>\n",
       "      <td>0.753243</td>\n",
       "      <td>6989</td>\n",
       "      <td>[-9842.197016888187]</td>\n",
       "      <td>[19704.394033776374]</td>\n",
       "      <td>[19772.93068805675]</td>\n",
       "    </tr>\n",
       "  </tbody>\n",
       "</table>\n",
       "</div>"
      ],
      "text/plain": [
       "   r.squared   adj.rsq    df           loglikehood                   aic  \\\n",
       "0   0.752167  0.753243  6989  [-9842.197016888187]  [19704.394033776374]   \n",
       "\n",
       "                   bic  \n",
       "0  [19772.93068805675]  "
      ]
     },
     "execution_count": 7,
     "metadata": {},
     "output_type": "execute_result"
    }
   ],
   "source": [
    "ridge.glance"
   ]
  },
  {
   "cell_type": "code",
   "execution_count": 8,
   "metadata": {},
   "outputs": [
    {
     "data": {
      "text/html": [
       "<div>\n",
       "<style scoped>\n",
       "    .dataframe tbody tr th:only-of-type {\n",
       "        vertical-align: middle;\n",
       "    }\n",
       "\n",
       "    .dataframe tbody tr th {\n",
       "        vertical-align: top;\n",
       "    }\n",
       "\n",
       "    .dataframe thead th {\n",
       "        text-align: right;\n",
       "    }\n",
       "</style>\n",
       "<table border=\"1\" class=\"dataframe\">\n",
       "  <thead>\n",
       "    <tr style=\"text-align: right;\">\n",
       "      <th></th>\n",
       "      <th>Coef</th>\n",
       "      <th>Std err</th>\n",
       "      <th>t</th>\n",
       "      <th>p-value</th>\n",
       "    </tr>\n",
       "  </thead>\n",
       "  <tbody>\n",
       "    <tr>\n",
       "      <th>0</th>\n",
       "      <td>0.569014</td>\n",
       "      <td>0.011592</td>\n",
       "      <td>49.087642</td>\n",
       "      <td>0.000000e+00</td>\n",
       "    </tr>\n",
       "    <tr>\n",
       "      <th>1</th>\n",
       "      <td>0.511981</td>\n",
       "      <td>0.011722</td>\n",
       "      <td>43.678548</td>\n",
       "      <td>0.000000e+00</td>\n",
       "    </tr>\n",
       "    <tr>\n",
       "      <th>2</th>\n",
       "      <td>0.130490</td>\n",
       "      <td>0.011688</td>\n",
       "      <td>11.164102</td>\n",
       "      <td>0.000000e+00</td>\n",
       "    </tr>\n",
       "    <tr>\n",
       "      <th>3</th>\n",
       "      <td>0.923461</td>\n",
       "      <td>0.011588</td>\n",
       "      <td>79.690242</td>\n",
       "      <td>0.000000e+00</td>\n",
       "    </tr>\n",
       "    <tr>\n",
       "      <th>4</th>\n",
       "      <td>0.562628</td>\n",
       "      <td>0.011858</td>\n",
       "      <td>47.448881</td>\n",
       "      <td>0.000000e+00</td>\n",
       "    </tr>\n",
       "    <tr>\n",
       "      <th>5</th>\n",
       "      <td>0.585388</td>\n",
       "      <td>0.011628</td>\n",
       "      <td>50.343656</td>\n",
       "      <td>0.000000e+00</td>\n",
       "    </tr>\n",
       "    <tr>\n",
       "      <th>6</th>\n",
       "      <td>0.084453</td>\n",
       "      <td>0.011859</td>\n",
       "      <td>7.121150</td>\n",
       "      <td>1.070255e-12</td>\n",
       "    </tr>\n",
       "    <tr>\n",
       "      <th>7</th>\n",
       "      <td>0.794218</td>\n",
       "      <td>0.011779</td>\n",
       "      <td>67.427099</td>\n",
       "      <td>0.000000e+00</td>\n",
       "    </tr>\n",
       "    <tr>\n",
       "      <th>8</th>\n",
       "      <td>0.002858</td>\n",
       "      <td>0.011766</td>\n",
       "      <td>0.242860</td>\n",
       "      <td>8.081136e-01</td>\n",
       "    </tr>\n",
       "    <tr>\n",
       "      <th>9</th>\n",
       "      <td>0.350145</td>\n",
       "      <td>0.011939</td>\n",
       "      <td>29.329024</td>\n",
       "      <td>0.000000e+00</td>\n",
       "    </tr>\n",
       "  </tbody>\n",
       "</table>\n",
       "</div>"
      ],
      "text/plain": [
       "       Coef   Std err          t       p-value\n",
       "0  0.569014  0.011592  49.087642  0.000000e+00\n",
       "1  0.511981  0.011722  43.678548  0.000000e+00\n",
       "2  0.130490  0.011688  11.164102  0.000000e+00\n",
       "3  0.923461  0.011588  79.690242  0.000000e+00\n",
       "4  0.562628  0.011858  47.448881  0.000000e+00\n",
       "5  0.585388  0.011628  50.343656  0.000000e+00\n",
       "6  0.084453  0.011859   7.121150  1.070255e-12\n",
       "7  0.794218  0.011779  67.427099  0.000000e+00\n",
       "8  0.002858  0.011766   0.242860  8.081136e-01\n",
       "9  0.350145  0.011939  29.329024  0.000000e+00"
      ]
     },
     "execution_count": 8,
     "metadata": {},
     "output_type": "execute_result"
    }
   ],
   "source": [
    "gradient_descent = model(train_x, train_y)\n",
    "gradient_descent.gradient_descent()"
   ]
  },
  {
   "cell_type": "code",
   "execution_count": 9,
   "metadata": {},
   "outputs": [
    {
     "data": {
      "text/html": [
       "<div>\n",
       "<style scoped>\n",
       "    .dataframe tbody tr th:only-of-type {\n",
       "        vertical-align: middle;\n",
       "    }\n",
       "\n",
       "    .dataframe tbody tr th {\n",
       "        vertical-align: top;\n",
       "    }\n",
       "\n",
       "    .dataframe thead th {\n",
       "        text-align: right;\n",
       "    }\n",
       "</style>\n",
       "<table border=\"1\" class=\"dataframe\">\n",
       "  <thead>\n",
       "    <tr style=\"text-align: right;\">\n",
       "      <th></th>\n",
       "      <th>r.squared</th>\n",
       "      <th>adj.rsq</th>\n",
       "      <th>df</th>\n",
       "      <th>loglikehood</th>\n",
       "      <th>aic</th>\n",
       "      <th>bic</th>\n",
       "    </tr>\n",
       "  </thead>\n",
       "  <tbody>\n",
       "    <tr>\n",
       "      <th>0</th>\n",
       "      <td>0.752167</td>\n",
       "      <td>0.753243</td>\n",
       "      <td>6989</td>\n",
       "      <td>[-9842.197434761234]</td>\n",
       "      <td>[19704.394869522468]</td>\n",
       "      <td>[19772.931523802843]</td>\n",
       "    </tr>\n",
       "  </tbody>\n",
       "</table>\n",
       "</div>"
      ],
      "text/plain": [
       "   r.squared   adj.rsq    df           loglikehood                   aic  \\\n",
       "0   0.752167  0.753243  6989  [-9842.197434761234]  [19704.394869522468]   \n",
       "\n",
       "                    bic  \n",
       "0  [19772.931523802843]  "
      ]
     },
     "execution_count": 9,
     "metadata": {},
     "output_type": "execute_result"
    }
   ],
   "source": [
    "gradient_descent.glance"
   ]
  },
  {
   "cell_type": "code",
   "execution_count": 10,
   "metadata": {},
   "outputs": [
    {
     "data": {
      "text/html": [
       "<div>\n",
       "<style scoped>\n",
       "    .dataframe tbody tr th:only-of-type {\n",
       "        vertical-align: middle;\n",
       "    }\n",
       "\n",
       "    .dataframe tbody tr th {\n",
       "        vertical-align: top;\n",
       "    }\n",
       "\n",
       "    .dataframe thead th {\n",
       "        text-align: right;\n",
       "    }\n",
       "</style>\n",
       "<table border=\"1\" class=\"dataframe\">\n",
       "  <thead>\n",
       "    <tr style=\"text-align: right;\">\n",
       "      <th></th>\n",
       "      <th>Coef</th>\n",
       "      <th>Std err</th>\n",
       "      <th>t</th>\n",
       "      <th>p-value</th>\n",
       "    </tr>\n",
       "  </thead>\n",
       "  <tbody>\n",
       "    <tr>\n",
       "      <th>0</th>\n",
       "      <td>0.568823</td>\n",
       "      <td>0.011592</td>\n",
       "      <td>49.071109</td>\n",
       "      <td>0.000000e+00</td>\n",
       "    </tr>\n",
       "    <tr>\n",
       "      <th>1</th>\n",
       "      <td>0.511931</td>\n",
       "      <td>0.011722</td>\n",
       "      <td>43.674309</td>\n",
       "      <td>0.000000e+00</td>\n",
       "    </tr>\n",
       "    <tr>\n",
       "      <th>2</th>\n",
       "      <td>0.130387</td>\n",
       "      <td>0.011688</td>\n",
       "      <td>11.155239</td>\n",
       "      <td>0.000000e+00</td>\n",
       "    </tr>\n",
       "    <tr>\n",
       "      <th>3</th>\n",
       "      <td>0.923353</td>\n",
       "      <td>0.011588</td>\n",
       "      <td>79.680987</td>\n",
       "      <td>0.000000e+00</td>\n",
       "    </tr>\n",
       "    <tr>\n",
       "      <th>4</th>\n",
       "      <td>0.562209</td>\n",
       "      <td>0.011858</td>\n",
       "      <td>47.413529</td>\n",
       "      <td>0.000000e+00</td>\n",
       "    </tr>\n",
       "    <tr>\n",
       "      <th>5</th>\n",
       "      <td>0.585229</td>\n",
       "      <td>0.011628</td>\n",
       "      <td>50.329949</td>\n",
       "      <td>0.000000e+00</td>\n",
       "    </tr>\n",
       "    <tr>\n",
       "      <th>6</th>\n",
       "      <td>0.084402</td>\n",
       "      <td>0.011859</td>\n",
       "      <td>7.116872</td>\n",
       "      <td>1.104006e-12</td>\n",
       "    </tr>\n",
       "    <tr>\n",
       "      <th>7</th>\n",
       "      <td>0.794228</td>\n",
       "      <td>0.011779</td>\n",
       "      <td>67.427956</td>\n",
       "      <td>0.000000e+00</td>\n",
       "    </tr>\n",
       "    <tr>\n",
       "      <th>8</th>\n",
       "      <td>0.002639</td>\n",
       "      <td>0.011766</td>\n",
       "      <td>0.224259</td>\n",
       "      <td>8.225560e-01</td>\n",
       "    </tr>\n",
       "    <tr>\n",
       "      <th>9</th>\n",
       "      <td>0.349921</td>\n",
       "      <td>0.011939</td>\n",
       "      <td>29.310288</td>\n",
       "      <td>0.000000e+00</td>\n",
       "    </tr>\n",
       "  </tbody>\n",
       "</table>\n",
       "</div>"
      ],
      "text/plain": [
       "       Coef   Std err          t       p-value\n",
       "0  0.568823  0.011592  49.071109  0.000000e+00\n",
       "1  0.511931  0.011722  43.674309  0.000000e+00\n",
       "2  0.130387  0.011688  11.155239  0.000000e+00\n",
       "3  0.923353  0.011588  79.680987  0.000000e+00\n",
       "4  0.562209  0.011858  47.413529  0.000000e+00\n",
       "5  0.585229  0.011628  50.329949  0.000000e+00\n",
       "6  0.084402  0.011859   7.116872  1.104006e-12\n",
       "7  0.794228  0.011779  67.427956  0.000000e+00\n",
       "8  0.002639  0.011766   0.224259  8.225560e-01\n",
       "9  0.349921  0.011939  29.310288  0.000000e+00"
      ]
     },
     "execution_count": 10,
     "metadata": {},
     "output_type": "execute_result"
    }
   ],
   "source": [
    "random_gradient_descent = model(train_x, train_y)\n",
    "random_gradient_descent.gradient_descent(random = True)"
   ]
  },
  {
   "cell_type": "code",
   "execution_count": 11,
   "metadata": {},
   "outputs": [
    {
     "data": {
      "text/html": [
       "<div>\n",
       "<style scoped>\n",
       "    .dataframe tbody tr th:only-of-type {\n",
       "        vertical-align: middle;\n",
       "    }\n",
       "\n",
       "    .dataframe tbody tr th {\n",
       "        vertical-align: top;\n",
       "    }\n",
       "\n",
       "    .dataframe thead th {\n",
       "        text-align: right;\n",
       "    }\n",
       "</style>\n",
       "<table border=\"1\" class=\"dataframe\">\n",
       "  <thead>\n",
       "    <tr style=\"text-align: right;\">\n",
       "      <th></th>\n",
       "      <th>r.squared</th>\n",
       "      <th>adj.rsq</th>\n",
       "      <th>df</th>\n",
       "      <th>loglikehood</th>\n",
       "      <th>aic</th>\n",
       "      <th>bic</th>\n",
       "    </tr>\n",
       "  </thead>\n",
       "  <tbody>\n",
       "    <tr>\n",
       "      <th>0</th>\n",
       "      <td>0.752167</td>\n",
       "      <td>0.753243</td>\n",
       "      <td>6989</td>\n",
       "      <td>[-9842.19766647769]</td>\n",
       "      <td>[19704.39533295538]</td>\n",
       "      <td>[19772.931987235756]</td>\n",
       "    </tr>\n",
       "  </tbody>\n",
       "</table>\n",
       "</div>"
      ],
      "text/plain": [
       "   r.squared   adj.rsq    df          loglikehood                  aic  \\\n",
       "0   0.752167  0.753243  6989  [-9842.19766647769]  [19704.39533295538]   \n",
       "\n",
       "                    bic  \n",
       "0  [19772.931987235756]  "
      ]
     },
     "execution_count": 11,
     "metadata": {},
     "output_type": "execute_result"
    }
   ],
   "source": [
    "random_gradient_descent.glance"
   ]
  },
  {
   "cell_type": "code",
   "execution_count": 12,
   "metadata": {},
   "outputs": [
    {
     "data": {
      "text/plain": [
       "[<matplotlib.lines.Line2D at 0x25a59d8cba8>]"
      ]
     },
     "execution_count": 12,
     "metadata": {},
     "output_type": "execute_result"
    },
    {
     "data": {
      "image/png": "[encoded data removed]",
      "text/plain": [
       "<Figure size 432x288 with 1 Axes>"
      ]
     },
     "metadata": {
      "needs_background": "light"
     },
     "output_type": "display_data"
    }
   ],
   "source": [
    "## Model Evulation\n",
    "### 1.compared by AIC\n",
    "algorithms = [ols, ridge, gradient_descent, random_gradient_descent]\n",
    "names  = ['ols', 'ridge', 'GD', 'RGD']\n",
    "criterion = [item.aic for item in algorithms]\n",
    "plt.title('aic')\n",
    "plt.plot(names , criterion)\n"
   ]
  },
  {
   "cell_type": "code",
   "execution_count": 13,
   "metadata": {},
   "outputs": [
    {
     "data": {
      "text/plain": [
       "[<matplotlib.lines.Line2D at 0x25a5adeb4a8>]"
      ]
     },
     "execution_count": 13,
     "metadata": {},
     "output_type": "execute_result"
    },
    {
     "data": {
      "image/png": "[encoded data removed]",
      "text/plain": [
       "<Figure size 432x288 with 1 Axes>"
      ]
     },
     "metadata": {
      "needs_background": "light"
     },
     "output_type": "display_data"
    }
   ],
   "source": [
    "### 2.compared by bic\n",
    "criterion = [item.bic for item in algorithms]\n",
    "plt.title('bic')\n",
    "plt.plot(names , criterion)"
   ]
  },
  {
   "cell_type": "code",
   "execution_count": 14,
   "metadata": {},
   "outputs": [
    {
     "data": {
      "text/plain": [
       "[<matplotlib.lines.Line2D at 0x25a5ae45da0>]"
      ]
     },
     "execution_count": 14,
     "metadata": {},
     "output_type": "execute_result"
    },
    {
     "data": {
      "image/png": "[encoded data removed]",
      "text/plain": [
       "<Figure size 432x288 with 1 Axes>"
      ]
     },
     "metadata": {
      "needs_background": "light"
     },
     "output_type": "display_data"
    }
   ],
   "source": [
    "### 3.compared by adjrsq\n",
    "criterion = [item.adjrsq for item in algorithms]\n",
    "plt.title('adjrsq')\n",
    "plt.plot(names , criterion)"
   ]
  },
  {
   "cell_type": "code",
   "execution_count": 15,
   "metadata": {},
   "outputs": [
    {
     "data": {
      "text/plain": [
       "[<matplotlib.lines.Line2D at 0x25a5ae93828>]"
      ]
     },
     "execution_count": 15,
     "metadata": {},
     "output_type": "execute_result"
    },
    {
     "data": {
      "image/png": "[encoded data removed]",
      "text/plain": [
       "<Figure size 432x288 with 1 Axes>"
      ]
     },
     "metadata": {
      "needs_background": "light"
     },
     "output_type": "display_data"
    }
   ],
   "source": [
    "### 4.compared by beta.var\n",
    "criterion = [(item.beta - b).var() for item in algorithms]\n",
    "plt.title('var of estimate')\n",
    "plt.plot(names , criterion)"
   ]
  },
  {
   "cell_type": "code",
   "execution_count": 16,
   "metadata": {},
   "outputs": [
    {
     "data": {
      "text/plain": [
       "[<matplotlib.lines.Line2D at 0x25a5aee86d8>]"
      ]
     },
     "execution_count": 16,
     "metadata": {},
     "output_type": "execute_result"
    },
    {
     "data": {
      "image/png": "[encoded data removed]",
      "text/plain": [
       "<Figure size 432x288 with 1 Axes>"
      ]
     },
     "metadata": {
      "needs_background": "light"
     },
     "output_type": "display_data"
    }
   ],
   "source": [
    "## 5.compared by SSE of Testing\n",
    "betas = [item.beta for item in algorithms]\n",
    "sse = []\n",
    "for beta in betas:\n",
    "    linear = model(train_x, train_y)\n",
    "    y_pred = linear.predict(test_x, beta)\n",
    "    sse.append(ridge.performance(test_y, y_pred))\n",
    "plt.title('SSE of test')\n",
    "plt.plot(names, sse)"
   ]
  },
  {
   "cell_type": "code",
   "execution_count": null,
   "metadata": {},
   "outputs": [],
   "source": []
  },
  {
   "cell_type": "code",
   "execution_count": null,
   "metadata": {},
   "outputs": [],
   "source": []
  }
 ],
 "metadata": {
  "kernelspec": {
   "display_name": "Python 3",
   "language": "python",
   "name": "python3"
  },
  "language_info": {
   "codemirror_mode": {
    "name": "ipython",
    "version": 3
   },
   "file_extension": ".py",
   "mimetype": "text/x-python",
   "name": "python",
   "nbconvert_exporter": "python",
   "pygments_lexer": "ipython3",
   "version": "3.7.3"
  }
 },
 "nbformat": 4,
 "nbformat_minor": 2
}
