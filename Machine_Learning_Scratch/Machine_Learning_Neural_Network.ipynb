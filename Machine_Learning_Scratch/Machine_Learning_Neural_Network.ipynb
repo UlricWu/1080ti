{
 "cells": [
  {
   "cell_type": "code",
   "execution_count": 2,
   "metadata": {},
   "outputs": [],
   "source": [
    "import numpy as np\n",
    "import pandas as pd\n",
    "from scipy import stats\n",
    "import random\n",
    "import math\n",
    "import matplotlib.pyplot as plt\n",
    "import cvxopt\n",
    "from sklearn.metrics import confusion_matrix, classification_report, precision_score"
   ]
  },
  {
   "cell_type": "code",
   "execution_count": 5,
   "metadata": {},
   "outputs": [],
   "source": [
    "df = pd.read_csv('CPZ_data_mini.csv')\n",
    "\n",
    "df.sort_values(by=['permno','Date'], inplace= True)\n",
    "df['ret_future'] = df.groupby('permno')['ret'].shift(-1)"
   ]
  },
  {
   "cell_type": "code",
   "execution_count": 6,
   "metadata": {},
   "outputs": [],
   "source": [
    "y = df['ret']\n",
    "x = df.drop(columns = ['Date', 'permno', 'ret'])"
   ]
  },
  {
   "cell_type": "code",
   "execution_count": 7,
   "metadata": {},
   "outputs": [],
   "source": [
    "x -= x.mean()\n",
    "x /= x.std()"
   ]
  },
  {
   "cell_type": "code",
   "execution_count": 8,
   "metadata": {},
   "outputs": [],
   "source": [
    "import sklearn.model_selection as sk\n",
    "\n",
    "x_train, x_test, y_train, y_test = sk.train_test_split(x, y,test_size=0.3, random_state = 42)\n",
    "\n",
    "x_train, x_val, y_train, y_val = sk.train_test_split(x_train, y_train, test_size=0.3, random_state = 42)"
   ]
  },
  {
   "cell_type": "code",
   "execution_count": 9,
   "metadata": {},
   "outputs": [
    {
     "data": {
      "text/plain": [
       "((597091, 19), (255897, 19), (365567, 19))"
      ]
     },
     "execution_count": 9,
     "metadata": {},
     "output_type": "execute_result"
    }
   ],
   "source": [
    "x_train.shape, x_val.shape, x_test.shape"
   ]
  },
  {
   "cell_type": "code",
   "execution_count": 425,
   "metadata": {},
   "outputs": [],
   "source": [
    "import tensorflow as tf\n",
    "from tensorflow.keras.models import Sequential\n",
    "from tensorflow.keras.layers import Dense\n",
    "from tensorflow.keras.layers import Dropout\n",
    "from tensorflow.keras.regularizers import l2\n",
    "from tensorflow.keras.optimizers import Adam\n",
    "from tensorflow.keras.initializers import he_normal"
   ]
  },
  {
   "cell_type": "code",
   "execution_count": 424,
   "metadata": {},
   "outputs": [
    {
     "ename": "NameError",
     "evalue": "name 'Sequential' is not defined",
     "output_type": "error",
     "traceback": [
      "\u001b[1;31m---------------------------------------------------------------------------\u001b[0m",
      "\u001b[1;31mNameError\u001b[0m                                 Traceback (most recent call last)",
      "\u001b[1;32m<ipython-input-424-0283124c18cd>\u001b[0m in \u001b[0;36m<module>\u001b[1;34m\u001b[0m\n\u001b[0;32m     30\u001b[0m \u001b[1;33m\u001b[0m\u001b[0m\n\u001b[0;32m     31\u001b[0m \u001b[1;32mfor\u001b[0m \u001b[0malpha\u001b[0m \u001b[1;32min\u001b[0m \u001b[0malpha_range\u001b[0m\u001b[1;33m:\u001b[0m\u001b[1;33m\u001b[0m\u001b[1;33m\u001b[0m\u001b[0m\n\u001b[1;32m---> 32\u001b[1;33m     \u001b[0merror_train\u001b[0m\u001b[1;33m.\u001b[0m\u001b[0mappend\u001b[0m\u001b[1;33m(\u001b[0m\u001b[0mtrain_nn\u001b[0m\u001b[1;33m(\u001b[0m\u001b[0mx_train\u001b[0m\u001b[1;33m,\u001b[0m \u001b[0my_train\u001b[0m\u001b[1;33m,\u001b[0m \u001b[0mx_val\u001b[0m\u001b[1;33m,\u001b[0m \u001b[0my_val\u001b[0m\u001b[1;33m,\u001b[0m \u001b[0malpha\u001b[0m\u001b[1;33m=\u001b[0m\u001b[0malpha\u001b[0m\u001b[1;33m)\u001b[0m\u001b[1;33m[\u001b[0m\u001b[1;34m'mse'\u001b[0m\u001b[1;33m]\u001b[0m\u001b[1;33m[\u001b[0m\u001b[1;33m-\u001b[0m\u001b[1;36m1\u001b[0m\u001b[1;33m]\u001b[0m\u001b[1;33m)\u001b[0m\u001b[1;33m\u001b[0m\u001b[1;33m\u001b[0m\u001b[0m\n\u001b[0m",
      "\u001b[1;32m<ipython-input-424-0283124c18cd>\u001b[0m in \u001b[0;36mtrain_nn\u001b[1;34m(X, y, X_vali, y_vali, alpha, epochs, num_layers, num_neurons, lamda, p)\u001b[0m\n\u001b[0;32m      1\u001b[0m \u001b[1;32mdef\u001b[0m \u001b[0mtrain_nn\u001b[0m\u001b[1;33m(\u001b[0m\u001b[0mX\u001b[0m\u001b[1;33m,\u001b[0m \u001b[0my\u001b[0m\u001b[1;33m,\u001b[0m \u001b[0mX_vali\u001b[0m\u001b[1;33m,\u001b[0m \u001b[0my_vali\u001b[0m\u001b[1;33m,\u001b[0m \u001b[0malpha\u001b[0m\u001b[1;33m,\u001b[0m \u001b[0mepochs\u001b[0m\u001b[1;33m=\u001b[0m\u001b[1;36m20\u001b[0m\u001b[1;33m,\u001b[0m \u001b[0mnum_layers\u001b[0m \u001b[1;33m=\u001b[0m \u001b[1;36m3\u001b[0m\u001b[1;33m,\u001b[0m \u001b[0mnum_neurons\u001b[0m \u001b[1;33m=\u001b[0m \u001b[1;33m[\u001b[0m\u001b[1;36m16\u001b[0m\u001b[1;33m,\u001b[0m\u001b[1;36m8\u001b[0m\u001b[1;33m,\u001b[0m\u001b[1;36m1\u001b[0m\u001b[1;33m]\u001b[0m\u001b[1;33m,\u001b[0m \u001b[0mlamda\u001b[0m\u001b[1;33m=\u001b[0m\u001b[1;36m0.0001\u001b[0m\u001b[1;33m,\u001b[0m\u001b[0mp\u001b[0m\u001b[1;33m=\u001b[0m\u001b[1;36m0.1\u001b[0m\u001b[1;33m)\u001b[0m\u001b[1;33m:\u001b[0m\u001b[1;33m\u001b[0m\u001b[1;33m\u001b[0m\u001b[0m\n\u001b[1;32m----> 2\u001b[1;33m     \u001b[0mmodel\u001b[0m \u001b[1;33m=\u001b[0m \u001b[0mSequential\u001b[0m\u001b[1;33m(\u001b[0m\u001b[1;33m)\u001b[0m\u001b[1;33m\u001b[0m\u001b[1;33m\u001b[0m\u001b[0m\n\u001b[0m\u001b[0;32m      3\u001b[0m     model.add(Dense(num_neurons[0], activation='relu',\n\u001b[0;32m      4\u001b[0m                         \u001b[0mkernel_regularizer\u001b[0m\u001b[1;33m=\u001b[0m\u001b[0ml2\u001b[0m\u001b[1;33m(\u001b[0m\u001b[0mlamda\u001b[0m\u001b[1;33m)\u001b[0m\u001b[1;33m,\u001b[0m\u001b[1;33m\u001b[0m\u001b[1;33m\u001b[0m\u001b[0m\n\u001b[0;32m      5\u001b[0m                         \u001b[0mkernel_initializer\u001b[0m\u001b[1;33m=\u001b[0m\u001b[0mhe_normal\u001b[0m\u001b[1;33m(\u001b[0m\u001b[1;33m)\u001b[0m\u001b[1;33m,\u001b[0m\u001b[1;33m\u001b[0m\u001b[1;33m\u001b[0m\u001b[0m\n",
      "\u001b[1;31mNameError\u001b[0m: name 'Sequential' is not defined"
     ]
    }
   ],
   "source": [
    "def train_nn(X, y, X_vali, y_vali, alpha, epochs=20, num_layers = 3, num_neurons = [16,8,1], lamda=0.0001,p=0.1):\n",
    "    model = Sequential()\n",
    "    model.add(Dense(num_neurons[0], activation='relu',\n",
    "                        kernel_regularizer=l2(lamda), \n",
    "                        kernel_initializer=he_normal(),\n",
    "                        input_dim=X.shape[1]))\n",
    "    model.add(Dropout(p))\n",
    "\n",
    "    for i in range(1, num_layers-1):\n",
    "        model.add(Dense(num_neurons[i], activation='relu', \n",
    "                        kernel_regularizer=l2(lamda), \n",
    "                        kernel_initializer=he_normal()))\n",
    "        model.add(Dropout(p))\n",
    "\n",
    "    model.add(Dense(1, activation='linear',\n",
    "                    kernel_initializer=he_normal()))\n",
    "\n",
    "    model.compile(loss='mse',\n",
    "                      optimizer=Adam(learning_rate=alpha),\n",
    "                      metrics=['mse'])\n",
    "    \n",
    "    return model.fit(X, y,epochs=epochs, batch_size=512, validation_data=(X_vali, y_vali)).history\n",
    "\n",
    "\n",
    "alpha_range = [1e-3, 1e-4, 1e-5, 1e-6, 1e-7]\n",
    "\n",
    "\n",
    "error_train = []\n",
    "\n",
    "\n",
    "for alpha in alpha_range:\n",
    "    error_train.append(train_nn(x_train, y_train, x_val, y_val, alpha=alpha)['mse'][-1])"
   ]
  },
  {
   "cell_type": "code",
   "execution_count": 217,
   "metadata": {},
   "outputs": [
    {
     "data": {
      "text/plain": [
       "<BarContainer object of 5 artists>"
      ]
     },
     "execution_count": 217,
     "metadata": {},
     "output_type": "execute_result"
    },
    {
     "data": {
      "image/png": "[encoded data removed]",
      "text/plain": [
       "<Figure size 432x288 with 1 Axes>"
      ]
     },
     "metadata": {
      "needs_background": "light"
     },
     "output_type": "display_data"
    }
   ],
   "source": [
    "plt.title('choose alpha for neural network')\n",
    "plt.xlabel('alpha')\n",
    "plt.ylabel('mse')\n",
    "plt.bar([str(alpha) for alpha in alpha_range], error_train, color='green')"
   ]
  },
  {
   "cell_type": "code",
   "execution_count": 218,
   "metadata": {},
   "outputs": [
    {
     "data": {
      "text/plain": [
       "[0.02545383758842945,\n",
       " 0.025451207533478737,\n",
       " 0.025450779125094414,\n",
       " 0.02545202150940895,\n",
       " 0.02551654540002346]"
      ]
     },
     "execution_count": 218,
     "metadata": {},
     "output_type": "execute_result"
    }
   ],
   "source": [
    "error_train"
   ]
  },
  {
   "cell_type": "code",
   "execution_count": 186,
   "metadata": {},
   "outputs": [],
   "source": [
    "n = 10\n",
    "d = 2\n",
    "x = np.random.normal(size=(n,d))\n",
    "error = np.random.normal(size=(n,1))\n",
    "b = np.random.uniform(size=(d,1))\n",
    "\n",
    "### in order to avoid Perfect Separation, we need to add some noise\n",
    "y = x@b + error\n",
    "\n",
    "# y = list(map(lambda x: 1 if x > 0 else 0, y))\n",
    "\n",
    "# binary\n",
    "# y = np.array([0 if x <0 else 1  for x in y])\n",
    "# y = np.where(y<0, 0, 1)\n",
    "## 3 classes\n",
    "# y = np.array([0 if x < -1 else 1 if x < 1 else 2 for x in y])\n"
   ]
  },
  {
   "cell_type": "code",
   "execution_count": 443,
   "metadata": {},
   "outputs": [
    {
     "name": "stdout",
     "output_type": "stream",
     "text": [
      "epoch 0 of 2 with mse \n",
      "epoch 1 of 2 with mse \n"
     ]
    },
    {
     "data": {
      "text/plain": [
       "2"
      ]
     },
     "execution_count": 443,
     "metadata": {},
     "output_type": "execute_result"
    }
   ],
   "source": [
    "\n",
    "class neural:\n",
    "    def __init__(self, x, y):\n",
    "        self.x = x\n",
    "        self.y = y\n",
    "\n",
    "    def complie(self, cost = 'mse', matrix = 'mse'):\n",
    "        self.cost = cost\n",
    "        self.matrix = 'mse'\n",
    "        \n",
    "    def activation(self, z, function):\n",
    "        if function == 'linear' : return z\n",
    "        \n",
    "        if function == 'sigmod': return 1/(1+ np.exp(-z))\n",
    "\n",
    "    def deactivation(self, z, function):\n",
    "        if function == 'linear' : return z\n",
    "        if function == 'sigmod': \n",
    "            f = 1/(1+ np.exp(-z))\n",
    "            return f*(1-f)  \n",
    "        \n",
    "    \n",
    "    def addBias(self, x):\n",
    "        ones = np.ones((x.shape[0], 1))\n",
    "        return np.hstack((ones,x)) \n",
    "        \n",
    "        \n",
    "    def decost(self, pred, true):\n",
    "        if self.cost == 'mse':  return pred - true\n",
    "    \n",
    "    def dense(self, nodes = [32], pred = 3 , out = 'linear', functions = ['sigmod'], hidden = 2):\n",
    "        n, d = self.x.shape\n",
    "\n",
    "        while len(nodes) != hidden:\n",
    "            nodes.append(nodes[0])\n",
    "        \n",
    "        if out == 'linear': \n",
    "            nodes = [d] + nodes + [1]\n",
    "        else:\n",
    "            nodes = [d] + nodes + [pred]\n",
    "\n",
    "        while len(functions) != hidden:\n",
    "            functions.append(functions[0])\n",
    "\n",
    "        functions = ['input'] + functions+ [out]\n",
    "\n",
    "        layers = {number+1:[nodes[number], functions[number]] for number in range(hidden+2)}  \n",
    "\n",
    "        self.layers = layers\n",
    "        \n",
    "        return layers\n",
    "\n",
    "    def make_weights(self):\n",
    "\n",
    "        layers = self.layers\n",
    "        layer = len(layers)\n",
    "        weights = {item:np.random.rand(layers[item][0]+1, layers[item+1][0]+1) for item in range(1, layer-1)}\n",
    "        weights[layer-1] = np.random.rand(layers[layer-1][0]+1, 1)\n",
    "        return weights\n",
    "    \n",
    "    def forward(self, weights, x = None ):\n",
    "        if x is None:\n",
    "            x = self.x\n",
    "            \n",
    "        next_input = [self.addBias(x)]\n",
    "        \n",
    "        for i in range(1, len(weights)+1):\n",
    "            next_input.append(next_input[i-1]@weights[i])\n",
    "        return next_input\n",
    "    \n",
    "\n",
    "    def ward(self, x, weight, error, function):\n",
    "        if function =='input':\n",
    "            return x.T@error, _\n",
    "        \n",
    "        derivate = self.deactivation(x, function)\n",
    "        return x.T@error, error@weight.T*derivate\n",
    "    \n",
    "    def back(self, next_input, weights, y, learning = 0.01):\n",
    "        number = len(self.layers)\n",
    "        error ={number:self.decost(next_input[number-1], y)}\n",
    "        \n",
    "        update = []\n",
    "        for layer in range(number-1, 0, -1):\n",
    "            update, error[layer] = self.ward(next_input[layer-1], weights[layer], error[layer+1], self.layers[layer][1])\n",
    "\n",
    "            weights[layer] -= update\n",
    "            \n",
    "        return weights, np.sum(abs(update))\n",
    "                               \n",
    "    def windows(self, batch):\n",
    "        index = list(range(len(self.x)))\n",
    "        np.random.shuffle(index)\n",
    "\n",
    "        return self.x[index[:batch]], self.y[index[:batch]]\n",
    "    \n",
    "    \n",
    "    def fit(self, threshold = 10e-5, batch = 64, epochs = 2):\n",
    "        \n",
    "        weights = self.make_weights()\n",
    "                               \n",
    "        for epoch in range(epochs):\n",
    "            \n",
    "            \n",
    "            learning = 1/(1+ epoch)\n",
    "            \n",
    "            x, y = self.windows(batch)\n",
    "                               \n",
    "            next_input = self.forward(weights, x)\n",
    "            print('epoch {epoch} of {epochs} with mse {mse}'.format(epoch = epoch, epochs = epochs ))\n",
    "            weights, update = self.back(next_input, weights, y)\n",
    "            \n",
    "            self.weights = weights\n",
    "            \n",
    "            if update <= threshold:\n",
    "                return epochs\n",
    "            \n",
    "        return epochs\n",
    "    \n",
    "    def predict(self, x):\n",
    "        pred = self.forward(self.weights, x)[-1]\n",
    "        return pred\n",
    "\n",
    "# model = neural(x_train.values, y_train.values.reshape(-1,1))\n",
    "model = neural(x, y )\n",
    "model.dense()\n",
    "model.complie(cost = 'mse', matrix = 'mse')\n",
    "model.fit()"
   ]
  },
  {
   "cell_type": "code",
   "execution_count": 444,
   "metadata": {},
   "outputs": [
    {
     "data": {
      "text/plain": [
       "array([[-6.52920141e+32],\n",
       "       [ 3.15857836e+32],\n",
       "       [-6.31118164e+32],\n",
       "       [ 8.10807729e+32],\n",
       "       [ 3.03821791e+32],\n",
       "       [-8.06078300e+32],\n",
       "       [ 1.75358647e+32],\n",
       "       [ 2.29133222e+33],\n",
       "       [ 5.73463504e+32],\n",
       "       [ 3.09763790e+32]])"
      ]
     },
     "execution_count": 444,
     "metadata": {},
     "output_type": "execute_result"
    }
   ],
   "source": [
    "model.predict(x)"
   ]
  },
  {
   "cell_type": "code",
   "execution_count": 445,
   "metadata": {},
   "outputs": [
    {
     "data": {
      "text/plain": [
       "array([[ 0.18516602],\n",
       "       [ 0.70102952],\n",
       "       [-2.35010989],\n",
       "       [-0.30879426],\n",
       "       [-0.10433223],\n",
       "       [ 0.15728613],\n",
       "       [-1.07966882],\n",
       "       [-1.09421749],\n",
       "       [ 2.30699693],\n",
       "       [-0.37303134]])"
      ]
     },
     "execution_count": 445,
     "metadata": {},
     "output_type": "execute_result"
    }
   ],
   "source": [
    "y"
   ]
  },
  {
   "cell_type": "code",
   "execution_count": 441,
   "metadata": {},
   "outputs": [
    {
     "name": "stdout",
     "output_type": "stream",
     "text": [
      "epoch 0 of 2 with mse \n",
      "epoch 1 of 2 with mse \n"
     ]
    },
    {
     "data": {
      "text/plain": [
       "2"
      ]
     },
     "execution_count": 441,
     "metadata": {},
     "output_type": "execute_result"
    }
   ],
   "source": [
    "model = neural(x_train.values, y_train.values.reshape(-1,1))\n",
    "model.dense()\n",
    "model.complie(cost = 'mse', matrix = 'mse')\n",
    "model.fit()"
   ]
  },
  {
   "cell_type": "code",
   "execution_count": 442,
   "metadata": {},
   "outputs": [
    {
     "data": {
      "text/plain": [
       "array([[nan],\n",
       "       [nan],\n",
       "       [nan],\n",
       "       ...,\n",
       "       [nan],\n",
       "       [nan],\n",
       "       [nan]])"
      ]
     },
     "execution_count": 442,
     "metadata": {},
     "output_type": "execute_result"
    }
   ],
   "source": [
    "model.predict(x_test)"
   ]
  },
  {
   "cell_type": "code",
   "execution_count": null,
   "metadata": {},
   "outputs": [],
   "source": []
  }
 ],
 "metadata": {
  "kernelspec": {
   "display_name": "Python 3",
   "language": "python",
   "name": "python3"
  },
  "language_info": {
   "codemirror_mode": {
    "name": "ipython",
    "version": 3
   },
   "file_extension": ".py",
   "mimetype": "text/x-python",
   "name": "python",
   "nbconvert_exporter": "python",
   "pygments_lexer": "ipython3",
   "version": "3.7.3"
  }
 },
 "nbformat": 4,
 "nbformat_minor": 2
}
