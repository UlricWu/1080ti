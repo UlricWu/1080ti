{
 "cells": [
  {
   "cell_type": "code",
   "execution_count": 1,
   "metadata": {},
   "outputs": [],
   "source": [
    "import numpy as np\n",
    "import pandas as pd\n",
    "from scipy import stats\n",
    "import random\n",
    "import math\n",
    "import matplotlib.pyplot as plt\n",
    "from sklearn.metrics import confusion_matrix, classification_report, precision_score\n",
    "import time\n",
    "# import cvxopt"
   ]
  },
  {
   "cell_type": "code",
   "execution_count": 2,
   "metadata": {},
   "outputs": [],
   "source": [
    "n = np.power(10,6)\n",
    "d = 10\n",
    "x = np.random.normal(size=(n,d))\n",
    "error = np.random.normal(size=(n,1))\n",
    "b = np.random.uniform(size=(d,1))\n",
    "\n",
    "### in order to avoid Perfect Separation, we need to add some noise\n",
    "y = x@b + error"
   ]
  },
  {
   "cell_type": "code",
   "execution_count": 3,
   "metadata": {},
   "outputs": [],
   "source": [
    "class data_generate_process:\n",
    "    def __init__(self, x, y):\n",
    "        self.x = x\n",
    "        self.y = y    \n",
    "        \n",
    "    def split(self, rate = 0.7, random_state = 1024, scale = False):\n",
    "        ## Feature scaling is used to normalize the range of independent variables or features of data\n",
    "        if scale:\n",
    "            self.x = (self.x - np.mean(self.x))/x.std()\n",
    "        \n",
    "        n = len(self.y)\n",
    "        np.random.seed(random_state)\n",
    "        \n",
    "        ##randomly spilte data into 70% train and 30% test\n",
    "        index = list(range(n))\n",
    "        np.random.shuffle(index)\n",
    "        train = index[:int(rate*n)]\n",
    "        test = index[int(rate*n):]\n",
    "        \n",
    "        self.train_x = self.x[train]\n",
    "        self.test_x = self.x[test]\n",
    "        self.train_y = self.y[train]\n",
    "        self.test_y = self.y[test]\n",
    "        \n",
    "        return self.train_x, self.test_x, self.train_y, self.test_y\n",
    "    \n",
    "train_x, test_x, train_y, test_y = data_generate_process(x, y).split()"
   ]
  },
  {
   "cell_type": "markdown",
   "metadata": {},
   "source": [
    "##  $ cost = 1/(pred - true)^2 \\; $  for Regression\n",
    "## $ \\theta_L$ = pred - true \n",
    "## $ \\theta_i = (theta_(i+1)). \\dot Weight_i * Activation'(alpha_i) $\n",
    "##    $ update_i = (\\alpha_i.T) . \\dot (\\theta_(i+1)) $\n",
    "##  $ weight_i.shape = (\\alpha_i.shape[1]+1, \\alpha_i.shape[1]+1) $\n",
    "##  $ weight_L.shape = (\\alpha_(L-1).shape[1]+1, 1 \\; or  \\;labels) $\n",
    "\n"
   ]
  },
  {
   "cell_type": "code",
   "execution_count": 4,
   "metadata": {
    "scrolled": true
   },
   "outputs": [],
   "source": [
    "\n",
    "class neural:\n",
    "    def __init__(self, x, y):\n",
    "        self.x = x\n",
    "        self.y = y\n",
    "\n",
    "    def complie(self, cost = 'mse', matrix = 'mse'):\n",
    "        self.cost = cost\n",
    "        self.matrix = 'mse'\n",
    "        \n",
    "    def activation(self, z, function):\n",
    "        if function == 'linear' : return z\n",
    "        \n",
    "        if function == 'sigmod': return 1/(1+ np.exp(-z))\n",
    "\n",
    "    def deactivation(self, z, function):\n",
    "        if function == 'linear' : return z\n",
    "        if function == 'sigmod': \n",
    "            f = 1/(1+ np.exp(-z))\n",
    "            return f*(1-f)  \n",
    "        \n",
    "    def addBias(self, x):\n",
    "        ones = np.ones((x.shape[0], 1))\n",
    "        return np.hstack((ones,x)) \n",
    "        \n",
    "    def decost(self, pred, true):\n",
    "        if self.cost == 'mse':  return pred - true\n",
    "    \n",
    "    def dense(self, nodes = [], pred = [] , out = 'linear', functions = ['sigmod'], hidden = 2):\n",
    "        \n",
    "        \n",
    "        if out == 'linear': pred = 1\n",
    "        else: pred = len(np.unique(y))\n",
    "        \n",
    "        n, d = self.x.shape\n",
    "        \n",
    "        if not nodes:\n",
    "            nodes = [int(np.sqrt(d*pred))+1]\n",
    "        \n",
    "\n",
    "        while len(nodes) != hidden:\n",
    "            nodes.append(nodes[0])\n",
    "        \n",
    "        nodes = [d] + nodes + [pred]\n",
    "        \n",
    "        self.nodes = nodes\n",
    "        \n",
    "        while len(functions) != hidden:\n",
    "            functions.append(functions[0])\n",
    "\n",
    "        functions = ['input'] + functions+ [out]\n",
    "        \n",
    "        \n",
    "        ## numbers of layers is the numbers of hidden layer plus the input and output layer\n",
    "        \n",
    "        layers = {number+1:[nodes[number], functions[number]] for number in range(hidden+2)}  \n",
    "\n",
    "        self.layers = layers\n",
    "        \n",
    "        \n",
    "        print(layers)\n",
    "        return layers\n",
    "\n",
    "    def make_weights(self, random_start):\n",
    "        \n",
    "        layers = self.layers\n",
    "        layer = len(layers)\n",
    "        \n",
    "        \n",
    "        ## dimension of weights is the dimension of input+1 (add bias) times the dimension of the next layer +1 \n",
    "        ## except the out layer\n",
    "        \n",
    "        if random_start == 0:\n",
    "            weights = {item:np.ones((layers[item][0]+1, layers[item+1][0]+1)) for item in range(1, layer-1)}\n",
    "            weights[layer-1] = np.ones((layers[layer-1][0]+1, 1))\n",
    "            return weights\n",
    "        \n",
    "        np.random.seed(random_start)\n",
    "        weights = {item:np.random.rand(layers[item][0]+1, layers[item+1][0]+1) for item in range(1, layer-1)}\n",
    "        weights[layer-1] = np.random.rand(layers[layer-1][0]+1, 1)\n",
    "        return weights\n",
    "        \n",
    "    def windows(self, batch):\n",
    "        ## random pop batch size of sampling\n",
    "        index = list(range(len(self.x)))\n",
    "        np.random.shuffle(index)\n",
    "\n",
    "        return self.x[index[:batch]], self.y[index[:batch]]\n",
    "    \n",
    "    def forward(self, weights, x = None):\n",
    "        if x is None:\n",
    "            x = self.x\n",
    "            \n",
    "        next_input = [self.addBias(x)]\n",
    "        \n",
    "        for i in range(1, len(weights)+1):\n",
    "            next_input.append(next_input[i-1]@weights[i])\n",
    "        return next_input\n",
    "    \n",
    "\n",
    "    def ward(self, x, weight, error, function):\n",
    "        \n",
    "        ## there is no error for the input layer\n",
    "        if function =='input':\n",
    "            return x.T@error, _\n",
    "        \n",
    "        derivate = self.deactivation(x, function)\n",
    "        return x.T@error, error@weight.T*derivate\n",
    "    \n",
    "    def back(self, next_input, weights, y, learning):\n",
    "        number = len(self.layers)\n",
    "        error ={number:self.decost(next_input[number-1], y)}\n",
    "        \n",
    "        update = []\n",
    "        for layer in range(number-1, 0, -1):\n",
    "            update, error[layer] = self.ward(next_input[layer-1], weights[layer], error[layer+1], self.layers[layer][1])\n",
    "            if np.isnan(update).any():\n",
    "                return weights, 0\n",
    "            weights[layer] -= learning*update\n",
    "            \n",
    "        return weights, np.sum(abs(update))\n",
    "    \n",
    "    def fit(self, threshold = 10e-3, batch = 256, epochs = 10 ,random_start = 0 , learning = []):\n",
    "        \n",
    "        weights = self.make_weights(random_start)\n",
    "        \n",
    "        \n",
    "        if not learning:\n",
    "            learning = 1/np.power(2, len(self.layers)+ self.nodes[1]+self.x.shape[1])\n",
    "        \n",
    "        for epoch in range(epochs):\n",
    "            \n",
    "            ## automatically reduce the learning step\n",
    "            learning = learning /(epoch+1)\n",
    "            \n",
    "            x, y = self.windows(batch)\n",
    "                               \n",
    "            next_input = self.forward(weights, x)\n",
    "            print('epoch {epoch} of {epochs} with mse {mse}'.format(epoch = epoch+1, epochs = epochs, mse = self.mse(next_input[-1], y) ))\n",
    "            weights, update = self.back(next_input, weights, y, learning)\n",
    "            \n",
    "            if update <= threshold: return\n",
    "            \n",
    "            self.weights = weights\n",
    "            \n",
    "    \n",
    "    def predict(self, x):\n",
    "        pred = self.forward(self.weights, x)[-1]\n",
    "        return pred\n",
    "    \n",
    "    def mse(self,pred, true):\n",
    "        error = pred - true\n",
    "        return error.T@error/len(error)\n"
   ]
  },
  {
   "cell_type": "code",
   "execution_count": 5,
   "metadata": {},
   "outputs": [
    {
     "name": "stdout",
     "output_type": "stream",
     "text": [
      "{1: [10, 'input'], 2: [4, 'sigmod'], 3: [4, 'sigmod'], 4: [1, 'linear']}\n",
      "epoch 1 of 10 with mse [[6394.44779124]]\n",
      "epoch 2 of 10 with mse [[546.26132455]]\n",
      "epoch 3 of 10 with mse [[95.655366]]\n",
      "epoch 4 of 10 with mse [[63.22396424]]\n",
      "epoch 5 of 10 with mse [[53.96255601]]\n",
      "epoch 6 of 10 with mse [[59.48561139]]\n",
      "epoch 7 of 10 with mse [[43.08762748]]\n",
      "epoch 8 of 10 with mse [[46.9129681]]\n",
      "epoch 9 of 10 with mse [[52.32381729]]\n",
      "epoch 10 of 10 with mse [[44.88919778]]\n"
     ]
    }
   ],
   "source": [
    "start = time.time()\n",
    "model = neural(train_x, train_y)\n",
    "model.dense()\n",
    "model.complie(cost = 'mse', matrix = 'mse')\n",
    "model.fit(random_start = 0)"
   ]
  },
  {
   "cell_type": "code",
   "execution_count": 6,
   "metadata": {},
   "outputs": [],
   "source": [
    "## mse\n",
    "pred = model.predict(test_x)\n",
    "my_mse = np.square(pred - test_y).sum()/len(pred)\n",
    "end = time.time()\n",
    "my_time = end - start"
   ]
  },
  {
   "cell_type": "markdown",
   "metadata": {},
   "source": [
    "###  SKlearn"
   ]
  },
  {
   "cell_type": "code",
   "execution_count": 7,
   "metadata": {},
   "outputs": [],
   "source": [
    "from sklearn.neural_network import MLPRegressor\n",
    "start = time.time()\n",
    "y_train = train_y.T\n",
    "regr = MLPRegressor().fit(train_x, train_y.ravel())"
   ]
  },
  {
   "cell_type": "code",
   "execution_count": 8,
   "metadata": {},
   "outputs": [],
   "source": [
    "pred = regr.predict(test_x)\n",
    "sk_mse = np.square(pred.reshape(-1,1) - test_y).sum()/len(pred)\n",
    "end = time.time()\n",
    "sk_time = end - start"
   ]
  },
  {
   "cell_type": "markdown",
   "metadata": {},
   "source": [
    "# comparison"
   ]
  },
  {
   "cell_type": "code",
   "execution_count": 11,
   "metadata": {},
   "outputs": [
    {
     "data": {
      "text/plain": [
       "Text(0.5, 1.0, 'MSE')"
      ]
     },
     "execution_count": 11,
     "metadata": {},
     "output_type": "execute_result"
    },
    {
     "data": {
      "image/png": "[encoded data removed]",
      "text/plain": [
       "<Figure size 432x288 with 1 Axes>"
      ]
     },
     "metadata": {
      "needs_background": "light"
     },
     "output_type": "display_data"
    }
   ],
   "source": [
    "plt.plot(['my','sk'],[my_mse, sk_mse],'ro')\n",
    "plt.title('MSE')"
   ]
  },
  {
   "cell_type": "code",
   "execution_count": 12,
   "metadata": {},
   "outputs": [
    {
     "data": {
      "text/plain": [
       "Text(0.5, 1.0, 'Time')"
      ]
     },
     "execution_count": 12,
     "metadata": {},
     "output_type": "execute_result"
    },
    {
     "data": {
      "image/png": "[encoded data removed]",
      "text/plain": [
       "<Figure size 432x288 with 1 Axes>"
      ]
     },
     "metadata": {
      "needs_background": "light"
     },
     "output_type": "display_data"
    }
   ],
   "source": [
    "plt.plot(['my','sk'],[my_time, sk_time],'bo')\n",
    "plt.title('Time')"
   ]
  },
  {
   "cell_type": "code",
   "execution_count": null,
   "metadata": {},
   "outputs": [],
   "source": []
  }
 ],
 "metadata": {
  "kernelspec": {
   "display_name": "Python 3",
   "language": "python",
   "name": "python3"
  },
  "language_info": {
   "codemirror_mode": {
    "name": "ipython",
    "version": 3
   },
   "file_extension": ".py",
   "mimetype": "text/x-python",
   "name": "python",
   "nbconvert_exporter": "python",
   "pygments_lexer": "ipython3",
   "version": "3.7.3"
  }
 },
 "nbformat": 4,
 "nbformat_minor": 2
}
