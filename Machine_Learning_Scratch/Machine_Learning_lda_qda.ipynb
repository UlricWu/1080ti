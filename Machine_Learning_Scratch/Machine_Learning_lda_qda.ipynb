{
 "cells": [
  {
   "cell_type": "code",
   "execution_count": 52,
   "metadata": {},
   "outputs": [],
   "source": [
    "import numpy as np\n",
    "import pandas as pd\n",
    "from scipy import stats\n",
    "import random\n",
    "import math\n",
    "import matplotlib.pyplot as plt\n",
    "import time"
   ]
  },
  {
   "cell_type": "code",
   "execution_count": 53,
   "metadata": {},
   "outputs": [],
   "source": [
    "\n",
    "## random generate numbers\n",
    "n = 10000\n",
    "d = 10\n",
    "n = 10000\n",
    "d = 10\n",
    "x = np.random.normal(size=(n,d))\n",
    "error = np.random.normal(size=(n,1))\n",
    "\n",
    "b = np.random.uniform(size=(d,1))\n",
    "\n",
    "### in order to avoid Perfect Separation, we need to add some noise\n",
    "y = x@b + error\n",
    "\n",
    "# y = list(map(lambda x: 1 if x > 0 else 0, y))\n",
    "\n",
    "# binary\n",
    "# y = np.array([0 if x <0 else 1  for x in y])\n",
    "\n",
    "## 3 classes\n",
    "y = np.array([0 if x < -1 else 1 if x < 1 else 2 for x in y])"
   ]
  },
  {
   "cell_type": "code",
   "execution_count": 54,
   "metadata": {},
   "outputs": [
    {
     "data": {
      "text/plain": [
       "([array([4.000e+00, 7.400e+01, 5.700e+02, 2.086e+03, 3.461e+03, 2.647e+03,\n",
       "         9.510e+02, 1.860e+02, 2.000e+01, 1.000e+00]),\n",
       "  array([6.000e+00, 7.700e+01, 6.260e+02, 2.043e+03, 3.384e+03, 2.695e+03,\n",
       "         9.960e+02, 1.630e+02, 9.000e+00, 1.000e+00]),\n",
       "  array([   5.,   86.,  616., 2088., 3411., 2641.,  961.,  180.,   12.,\n",
       "            0.]),\n",
       "  array([   4.,   87.,  614., 2015., 3452., 2650.,  986.,  176.,   16.,\n",
       "            0.]),\n",
       "  array([   7.,   94.,  582., 2089., 3340., 2700.,  989.,  183.,   16.,\n",
       "            0.]),\n",
       "  array([9.000e+00, 8.700e+01, 5.920e+02, 2.120e+03, 3.292e+03, 2.730e+03,\n",
       "         9.880e+02, 1.730e+02, 8.000e+00, 1.000e+00]),\n",
       "  array([   5.,  105.,  579., 2129., 3381., 2580., 1008.,  194.,   19.,\n",
       "            0.]),\n",
       "  array([  12.,   91.,  635., 2091., 3356., 2662.,  975.,  169.,    9.,\n",
       "            0.]),\n",
       "  array([5.000e+00, 7.900e+01, 5.950e+02, 2.124e+03, 3.327e+03, 2.653e+03,\n",
       "         1.032e+03, 1.720e+02, 1.000e+01, 3.000e+00]),\n",
       "  array([3.000e+00, 7.700e+01, 6.130e+02, 2.170e+03, 3.311e+03, 2.632e+03,\n",
       "         9.970e+02, 1.850e+02, 1.000e+01, 2.000e+00])],\n",
       " array([-4.14813501, -3.25940623, -2.37067745, -1.48194867, -0.5932199 ,\n",
       "         0.29550888,  1.18423766,  2.07296644,  2.96169522,  3.850424  ,\n",
       "         4.73915278]),\n",
       " <a list of 10 Lists of Patches objects>)"
      ]
     },
     "execution_count": 54,
     "metadata": {},
     "output_type": "execute_result"
    },
    {
     "data": {
      "image/png": "[encoded data removed]",
      "text/plain": [
       "<Figure size 432x288 with 1 Axes>"
      ]
     },
     "metadata": {
      "needs_background": "light"
     },
     "output_type": "display_data"
    }
   ],
   "source": [
    "plt.hist(x)"
   ]
  },
  {
   "cell_type": "code",
   "execution_count": 55,
   "metadata": {},
   "outputs": [],
   "source": [
    "class data_generate_process:\n",
    "    def __init__(self, x, y):\n",
    "        self.x = x\n",
    "        self.y = y    \n",
    "        \n",
    "    def split(self, rate = 0.7, random_state = 1024, scale = False):\n",
    "        ## Feature scaling is used to normalize the range of independent variables or features of data\n",
    "        if scale:\n",
    "            self.x = (self.x - np.mean(self.x))/x.std()\n",
    "        \n",
    "        n = len(self.y)\n",
    "        np.random.seed(random_state)\n",
    "        \n",
    "        ##randomly spilte data into 70% train and 30% test\n",
    "        index = list(range(n))\n",
    "        np.random.shuffle(index)\n",
    "        train = index[:int(rate*n)]\n",
    "        test = index[int(rate*n):]\n",
    "        \n",
    "        self.train_x = self.x[train]\n",
    "        self.test_x = self.x[test]\n",
    "        self.train_y = self.y[train]\n",
    "        self.test_y = self.y[test]\n",
    "        \n",
    "        return self.train_x, self.test_x, self.train_y, self.test_y\n",
    "    \n",
    "train_x, test_x, train_y, test_y = data_generate_process(x, y ).split()"
   ]
  },
  {
   "cell_type": "code",
   "execution_count": 56,
   "metadata": {},
   "outputs": [],
   "source": [
    "class model:\n",
    "    def __init__(self, x, y):\n",
    "        self.x = x\n",
    "        self.y = y\n",
    "        \n",
    "    def lda(self, x = None, y = None):\n",
    "        if x is None:\n",
    "            x = self.x\n",
    "        if y is None:\n",
    "            y = self.y\n",
    "            \n",
    "        ## vector of k classes in an ascending order\n",
    "        groups = np.unique(y)\n",
    "        self.groups = groups\n",
    "        \n",
    "        ##create N by k (classes) matrix\n",
    "        likehood = np.zeros((len(x), len(groups))) \n",
    "        \n",
    "        means = {}\n",
    "        covariances = {}\n",
    "        indexs = {}\n",
    "        \n",
    "        for group in groups:\n",
    "            ##get the index of all the x that belong to k classes\n",
    "            index = np.where(y == groups[group])[0]\n",
    "            indexs[group] = index\n",
    "            \n",
    "            means[group] = np.mean(x[index],axis = 0)\n",
    "            \n",
    "            covariances[group] = np.cov(x.T)\n",
    "            \n",
    "        self.index = indexs\n",
    "        self.mean = means\n",
    "        self.covariance = covariances \n",
    "\n",
    "    def lda_predict(self, x, mean = None, covariance = None):\n",
    "        if covariance is None:\n",
    "            covariance = self.covariance\n",
    "\n",
    "        if mean is None:\n",
    "            mean = self.mean\n",
    "            \n",
    "        \n",
    "        ##create N by k (classes) matrix\n",
    "        likehood = np.zeros((len(x), len(self.groups)))\n",
    "#         print(likehood.shape)\n",
    "        for group in self.groups:\n",
    "            mean = self.mean[group]\n",
    "            covariance = self.covariance[group]\n",
    "            covariance_inv = np.linalg.inv(covariance)\n",
    "            ## calcuate how many points belong to kth class\n",
    "            ## that's the probably\n",
    "            points = len(self.index[group])\n",
    "            \n",
    "            probablity = x@covariance_inv@mean - 0.5*mean.T@covariance_inv@mean +np.log(points)\n",
    "                                \n",
    "            likehood[:,group] = probablity\n",
    "            \n",
    "        ##get the index of max likehood for each observations\n",
    "            self.labels = likehood.argmax(axis = 1)\n",
    "        return self.labels\n",
    "            \n",
    "    def qda(self, x = None, y = None):\n",
    "        if x is None:\n",
    "            x = self.x\n",
    "        if y is None:\n",
    "            y = self.y\n",
    "            \n",
    "        ## vector of k classes in an ascending order\n",
    "        groups = np.unique(y)\n",
    "        self.groups = groups\n",
    "        \n",
    "        ##create N by k (classes) matrix\n",
    "        likehood = np.zeros((len(x), len(groups)))  \n",
    "        \n",
    "        means = {}\n",
    "        covariances = {}\n",
    "        indexs = {}\n",
    "        \n",
    "        for group in groups:\n",
    "            ##get the index of all the x that belong to k classes\n",
    "            index = np.where(y == groups[group])[0]\n",
    "            indexs[group] = index\n",
    "            \n",
    "             ## calcuate mean & covariance matrix of all the x that belong to k classes\n",
    "            means[group] = np.mean(x[index],axis = 0)\n",
    "            \n",
    "            covariances[group] = np.cov(x[index].T)\n",
    "        \n",
    "        self.index = indexs\n",
    "        self.mean = means\n",
    "        self.covariance = covariances\n",
    " \n",
    "    def qda_predict(self, x, mean = None, covariance = None):\n",
    "        if covariance is None:\n",
    "            covariance = self.covariance\n",
    "\n",
    "        if mean is None:\n",
    "            mean = self.mean\n",
    "            \n",
    "        \n",
    "        ##create N by k (classes) matrix\n",
    "        likehood = np.zeros((len(x), len(self.groups)))\n",
    "#         print(likehood.shape)\n",
    "        for group in self.groups:\n",
    "            mean = self.mean[group]\n",
    "            covariance = self.covariance[group]\n",
    "            \n",
    "            ## calcuate how many points belong to kth class\n",
    "            ## that's the probably\n",
    "            points = len(self.index[group])\n",
    "            \n",
    "            shift = x - mean\n",
    "            ## create a diag matrix of covariance with all 0 expcet the diagonal\n",
    "            scale = np.diagflat(np.diag(covariance))\n",
    "            scale_inv = np.linalg.inv(scale)\n",
    "            det = np.linalg.det(scale)\n",
    "            ## log(points/N), N can't be obmitted\n",
    "#             probablity = np.log(points)- 0.5*np.log(np.linalg.det(scale))- 0.5*np.diag(shift@np.linalg.inv(scale)@shift.T)\n",
    "            probablity = np.log(points) - 0.5*np.log(det ) - 0.5*np.diag(shift@scale_inv@shift.T)\n",
    "                                \n",
    "            likehood[:,group] = probablity\n",
    "            \n",
    "        ##get the index of max likehood for each observations\n",
    "            self.labels = likehood.argmax(axis = 1)\n",
    "        return self.labels\n",
    "\n",
    "    def confusion_matirx(self, test, pred):\n",
    "        groups = np.unique(test_y)\n",
    "        \n",
    "        index_true = {i:[] for i in groups}\n",
    "\n",
    "        ## index of each class of true labels\n",
    "        for index, label in enumerate(test_y):\n",
    "            index_true[label].append(index)\n",
    "\n",
    "        counts = []\n",
    "        ## groupby classes of true labels, count the numbers for each class in predict\n",
    "        for group in groups:\n",
    "            count = {i:0 for i in groups}\n",
    "            for label in pred[index_true[group]]:\n",
    "                count[label] += 1\n",
    "            counts.append(count)\n",
    "\n",
    "        matirx = pd.DataFrame(counts)\n",
    "        columns_names =  ['predict '+str(group) for group in groups]\n",
    "        matirx.columns = columns_names\n",
    "        \n",
    "        self.matirx = matirx\n",
    "        return  self.matirx\n",
    "        ## accuracy\n",
    "    def performance(self, test, pred):\n",
    "        \n",
    "        mat = self.confusion_matirx(test, pred).values\n",
    "\n",
    "\n",
    "        self.accuracy = np.diag(mat).sum()/mat.sum()\n",
    "        \n",
    "        self.precision = np.diag(mat) / np.sum(mat, axis = 0) \n",
    "        self.recall = np.diag(mat)/ np.sum(mat, axis = 1) \n",
    "        \n",
    "        self.fmeasure = [x*y/(x+y) if (x+y) >0 else 0 for x, y in zip(self.precision,self.recall)]\n",
    "\n",
    "\n",
    "        df = pd.DataFrame([ self.precision, self.recall, self.fmeasure]).T\n",
    "        df.columns = ['precision', 'recall', 'f1-score']\n",
    "\n",
    "        return df"
   ]
  },
  {
   "cell_type": "markdown",
   "metadata": {},
   "source": [
    "# Linear Discriminant Analysis (LDA)\n",
    "# https://en.wikipedia.org/wiki/Linear_discriminant_analysis\n",
    "# Assume all $\\Sigma_k == \\Sigma_l $\n",
    "# Final Decision Scores\n",
    "# $ \\delta_k(x) = X\\Sigma^{-1}\\mu - 1/2\\mu\\Sigma^{-1}\\mu + \\log_k(probability)$\n"
   ]
  },
  {
   "cell_type": "markdown",
   "metadata": {},
   "source": [
    "# 1. My solution to LDA"
   ]
  },
  {
   "cell_type": "code",
   "execution_count": 71,
   "metadata": {},
   "outputs": [
    {
     "data": {
      "text/html": [
       "<div>\n",
       "<style scoped>\n",
       "    .dataframe tbody tr th:only-of-type {\n",
       "        vertical-align: middle;\n",
       "    }\n",
       "\n",
       "    .dataframe tbody tr th {\n",
       "        vertical-align: top;\n",
       "    }\n",
       "\n",
       "    .dataframe thead th {\n",
       "        text-align: right;\n",
       "    }\n",
       "</style>\n",
       "<table border=\"1\" class=\"dataframe\">\n",
       "  <thead>\n",
       "    <tr style=\"text-align: right;\">\n",
       "      <th></th>\n",
       "      <th>precision</th>\n",
       "      <th>recall</th>\n",
       "      <th>f1-score</th>\n",
       "    </tr>\n",
       "  </thead>\n",
       "  <tbody>\n",
       "    <tr>\n",
       "      <th>0</th>\n",
       "      <td>0.824407</td>\n",
       "      <td>0.863051</td>\n",
       "      <td>0.421643</td>\n",
       "    </tr>\n",
       "    <tr>\n",
       "      <th>1</th>\n",
       "      <td>0.611364</td>\n",
       "      <td>0.593164</td>\n",
       "      <td>0.301063</td>\n",
       "    </tr>\n",
       "    <tr>\n",
       "      <th>2</th>\n",
       "      <td>0.814475</td>\n",
       "      <td>0.795025</td>\n",
       "      <td>0.402316</td>\n",
       "    </tr>\n",
       "  </tbody>\n",
       "</table>\n",
       "</div>"
      ],
      "text/plain": [
       "   precision    recall  f1-score\n",
       "0   0.824407  0.863051  0.421643\n",
       "1   0.611364  0.593164  0.301063\n",
       "2   0.814475  0.795025  0.402316"
      ]
     },
     "execution_count": 71,
     "metadata": {},
     "output_type": "execute_result"
    }
   ],
   "source": [
    "start = time.time()\n",
    "ulric_lda = model(train_x, train_y)\n",
    "ulric_lda.lda()\n",
    "lda_pred = ulric_lda.lda_predict(test_x)\n",
    "ulric_lda.performance(test_y, lda_pred)"
   ]
  },
  {
   "cell_type": "code",
   "execution_count": 72,
   "metadata": {},
   "outputs": [
    {
     "name": "stdout",
     "output_type": "stream",
     "text": [
      "   predict 0  predict 1  predict 2\n",
      "0        939        144          5\n",
      "1        192        538        177\n",
      "2          8        198        799\n"
     ]
    }
   ],
   "source": [
    "print(ulric_lda.confusion_matirx(test_y, lda_pred))\n",
    "end = time.time()\n",
    "my_lda = end - start"
   ]
  },
  {
   "cell_type": "markdown",
   "metadata": {},
   "source": [
    "# 1.2 Sklearn solution to LDA"
   ]
  },
  {
   "cell_type": "code",
   "execution_count": 73,
   "metadata": {},
   "outputs": [
    {
     "name": "stdout",
     "output_type": "stream",
     "text": [
      "              precision    recall  f1-score   support\n",
      "\n",
      "           0      0.844     0.829     0.836      1088\n",
      "           1      0.593     0.655     0.622       907\n",
      "           2      0.835     0.772     0.802      1005\n",
      "\n",
      "    accuracy                          0.757      3000\n",
      "   macro avg      0.757     0.752     0.754      3000\n",
      "weighted avg      0.765     0.757     0.760      3000\n",
      "\n",
      "[[902 183   3]\n",
      " [163 594 150]\n",
      " [  4 225 776]]\n"
     ]
    }
   ],
   "source": [
    "from sklearn.discriminant_analysis import LinearDiscriminantAnalysis, QuadraticDiscriminantAnalysis\n",
    "from sklearn.metrics import confusion_matrix, classification_report, precision_score\n",
    "start = time.time()\n",
    "lda = LinearDiscriminantAnalysis().fit(train_x, train_y.ravel()).predict(test_x)\n",
    "print(classification_report(test_y, lda, digits=3))\n",
    "print(confusion_matrix(test_y, lda))\n",
    "end = time.time()\n",
    "sk_lda = end - start"
   ]
  },
  {
   "cell_type": "markdown",
   "metadata": {},
   "source": [
    "# Quadratic discriminant analysis\n",
    "https://en.wikipedia.org/wiki/Quadratic_classifier#Quadratic_discriminant_analysis\n",
    "# relax $\\Sigma_k == \\Sigma_l $\n",
    "# Final Decision Scores for all x \n",
    "## $ \\delta_k(x) = -1/2(X-\\mu_k)\\Sigma_k^{-1}(x-\\mu_k) - 1/2\\log(\\det \\Sigma )+ \\log_k(probability)$"
   ]
  },
  {
   "cell_type": "markdown",
   "metadata": {},
   "source": [
    "# 2.My solution to QDA"
   ]
  },
  {
   "cell_type": "code",
   "execution_count": 60,
   "metadata": {},
   "outputs": [
    {
     "data": {
      "text/html": [
       "<div>\n",
       "<style scoped>\n",
       "    .dataframe tbody tr th:only-of-type {\n",
       "        vertical-align: middle;\n",
       "    }\n",
       "\n",
       "    .dataframe tbody tr th {\n",
       "        vertical-align: top;\n",
       "    }\n",
       "\n",
       "    .dataframe thead th {\n",
       "        text-align: right;\n",
       "    }\n",
       "</style>\n",
       "<table border=\"1\" class=\"dataframe\">\n",
       "  <thead>\n",
       "    <tr style=\"text-align: right;\">\n",
       "      <th></th>\n",
       "      <th>precision</th>\n",
       "      <th>recall</th>\n",
       "      <th>f1-score</th>\n",
       "    </tr>\n",
       "  </thead>\n",
       "  <tbody>\n",
       "    <tr>\n",
       "      <th>0</th>\n",
       "      <td>0.820604</td>\n",
       "      <td>0.849265</td>\n",
       "      <td>0.417344</td>\n",
       "    </tr>\n",
       "    <tr>\n",
       "      <th>1</th>\n",
       "      <td>0.601545</td>\n",
       "      <td>0.600882</td>\n",
       "      <td>0.300607</td>\n",
       "    </tr>\n",
       "    <tr>\n",
       "      <th>2</th>\n",
       "      <td>0.821281</td>\n",
       "      <td>0.791045</td>\n",
       "      <td>0.402940</td>\n",
       "    </tr>\n",
       "  </tbody>\n",
       "</table>\n",
       "</div>"
      ],
      "text/plain": [
       "   precision    recall  f1-score\n",
       "0   0.820604  0.849265  0.417344\n",
       "1   0.601545  0.600882  0.300607\n",
       "2   0.821281  0.791045  0.402940"
      ]
     },
     "execution_count": 60,
     "metadata": {},
     "output_type": "execute_result"
    }
   ],
   "source": [
    "\n",
    "ulric_qda = model(train_x, train_y)\n",
    "ulric_qda.qda()\n",
    "qda_pred = ulric_qda.qda_predict(test_x)\n",
    "ulric_qda.performance(test_y, qda_pred)\n"
   ]
  },
  {
   "cell_type": "code",
   "execution_count": 61,
   "metadata": {},
   "outputs": [
    {
     "data": {
      "text/html": [
       "<div>\n",
       "<style scoped>\n",
       "    .dataframe tbody tr th:only-of-type {\n",
       "        vertical-align: middle;\n",
       "    }\n",
       "\n",
       "    .dataframe tbody tr th {\n",
       "        vertical-align: top;\n",
       "    }\n",
       "\n",
       "    .dataframe thead th {\n",
       "        text-align: right;\n",
       "    }\n",
       "</style>\n",
       "<table border=\"1\" class=\"dataframe\">\n",
       "  <thead>\n",
       "    <tr style=\"text-align: right;\">\n",
       "      <th></th>\n",
       "      <th>predict 0</th>\n",
       "      <th>predict 1</th>\n",
       "      <th>predict 2</th>\n",
       "    </tr>\n",
       "  </thead>\n",
       "  <tbody>\n",
       "    <tr>\n",
       "      <th>0</th>\n",
       "      <td>924</td>\n",
       "      <td>159</td>\n",
       "      <td>5</td>\n",
       "    </tr>\n",
       "    <tr>\n",
       "      <th>1</th>\n",
       "      <td>194</td>\n",
       "      <td>545</td>\n",
       "      <td>168</td>\n",
       "    </tr>\n",
       "    <tr>\n",
       "      <th>2</th>\n",
       "      <td>8</td>\n",
       "      <td>202</td>\n",
       "      <td>795</td>\n",
       "    </tr>\n",
       "  </tbody>\n",
       "</table>\n",
       "</div>"
      ],
      "text/plain": [
       "   predict 0  predict 1  predict 2\n",
       "0        924        159          5\n",
       "1        194        545        168\n",
       "2          8        202        795"
      ]
     },
     "execution_count": 61,
     "metadata": {},
     "output_type": "execute_result"
    }
   ],
   "source": [
    "ulric_qda.confusion_matirx(test_y, qda_pred)"
   ]
  },
  {
   "cell_type": "markdown",
   "metadata": {},
   "source": [
    "# 2.2 SKlearn solution to QDA"
   ]
  },
  {
   "cell_type": "code",
   "execution_count": 62,
   "metadata": {},
   "outputs": [
    {
     "name": "stdout",
     "output_type": "stream",
     "text": [
      "              precision    recall  f1-score   support\n",
      "\n",
      "           0      0.855     0.815     0.834      1088\n",
      "           1      0.581     0.681     0.627       907\n",
      "           2      0.840     0.751     0.793      1005\n",
      "\n",
      "    accuracy                          0.753      3000\n",
      "   macro avg      0.759     0.749     0.752      3000\n",
      "weighted avg      0.767     0.753     0.758      3000\n",
      "\n"
     ]
    }
   ],
   "source": [
    "\n",
    "qda = QuadraticDiscriminantAnalysis().fit(train_x, train_y.ravel()).predict(test_x)\n",
    "print(classification_report(test_y, qda, digits=3))\n"
   ]
  },
  {
   "cell_type": "code",
   "execution_count": 63,
   "metadata": {},
   "outputs": [
    {
     "name": "stdout",
     "output_type": "stream",
     "text": [
      "[[887 198   3]\n",
      " [148 618 141]\n",
      " [  3 247 755]]\n"
     ]
    }
   ],
   "source": [
    "print(confusion_matrix(test_y,qda))\n",
    "\n",
    "## almost as my solutions"
   ]
  }
 ],
 "metadata": {
  "kernelspec": {
   "display_name": "Python 3",
   "language": "python",
   "name": "python3"
  },
  "language_info": {
   "codemirror_mode": {
    "name": "ipython",
    "version": 3
   },
   "file_extension": ".py",
   "mimetype": "text/x-python",
   "name": "python",
   "nbconvert_exporter": "python",
   "pygments_lexer": "ipython3",
   "version": "3.7.3"
  }
 },
 "nbformat": 4,
 "nbformat_minor": 2
}
