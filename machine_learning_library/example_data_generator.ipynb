{
 "cells": [
  {
   "cell_type": "code",
   "execution_count": 10,
   "metadata": {
    "collapsed": true
   },
   "outputs": [],
   "source": [
    "from machine_learning_library.data_generator import DGP\n",
    "observations, dimensions = 100000, 20\n",
    "data = DGP(observations=observations, dimensions=dimensions)\n",
    "data.generate()"
   ]
  },
  {
   "cell_type": "code",
   "execution_count": 11,
   "outputs": [
    {
     "name": "stdout",
     "output_type": "stream",
     "text": [
      "(70000, 20)\n",
      "(30000, 20)\n",
      "(70000, 1)\n",
      "(30000, 1)\n"
     ]
    }
   ],
   "source": [
    "train_x, _test_x, train_y, test_y = data.split()\n",
    "for item in [train_x, _test_x, train_y, test_y ]:\n",
    "    print(item.shape)"
   ],
   "metadata": {
    "collapsed": false,
    "pycharm": {
     "name": "#%%\n"
    }
   }
  }
 ],
 "metadata": {
  "kernelspec": {
   "name": "python3",
   "language": "python",
   "display_name": "Python 3"
  },
  "language_info": {
   "codemirror_mode": {
    "name": "ipython",
    "version": 2
   },
   "file_extension": ".py",
   "mimetype": "text/x-python",
   "name": "python",
   "nbconvert_exporter": "python",
   "pygments_lexer": "ipython2",
   "version": "2.7.6"
  }
 },
 "nbformat": 4,
 "nbformat_minor": 0
}