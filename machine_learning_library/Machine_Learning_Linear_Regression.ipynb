{
 "cells": [
  {
   "cell_type": "code",
   "execution_count": 1,
   "metadata": {},
   "outputs": [],
   "source": [
    "import numpy as np\n",
    "import pandas as pd\n",
    "from scipy import stats\n",
    "import random\n",
    "import math\n",
    "import matplotlib.pyplot as plt\n",
    "\n",
    "## random generate numbers\n",
<<<<<<< HEAD
    "n = 10000\n",
    "d = 10\n",
    "x = np.random.normal(size=(n,d))\n",
    "error = np.random.normal(size=(n,1))\n",
    "\n",
    "b = np.random.uniform(size=(d,1))\n",
    "\n",
    "### in order to avoid Perfect Separation, we need to add some noise\n",
    "y = x@b + error"
=======
    "n = 1000\n",
    "mu = 0\n",
    "sig = 1\n",
    "x = np.random.normal(mu,sig, (n,3))\n",
    "y = np.random.normal(mu,sig, (n,1))\n",
    "\n",
    "b = np.array([1,1,5]).reshape(-1,1)\n",
    "y += x@b\n",
    "## real beta is [1,1.5]"
>>>>>>> 27dc72bf56eba6ef0435dd9625fa62998278179c
   ]
  },
  {
   "cell_type": "code",
   "execution_count": 2,
   "metadata": {},
   "outputs": [],
   "source": [
    "class data_generate_process:\n",
    "    def __init__(self, x, y):\n",
    "        self.x = x\n",
    "        self.y = y    \n",
    "        \n",
    "    def split(self, rate = 0.7, random_state = 1024, scale = False):\n",
    "        ## Feature scaling is used to normalize the range of independent variables or features of data\n",
    "        if scale:\n",
    "            self.x = (self.x - np.mean(self.x))/x.std()\n",
    "        \n",
    "        n = len(self.y)\n",
    "        np.random.seed(random_state)\n",
    "        \n",
    "        ##randomly spilte data into 70% train and 30% test\n",
    "        index = list(range(n))\n",
    "        np.random.shuffle(index)\n",
    "        train = index[:int(rate*n)]\n",
    "        test = index[int(rate*n):]\n",
    "        \n",
    "        self.train_x = self.x[train]\n",
    "        self.test_x = self.x[test]\n",
    "        self.train_y = self.y[train]\n",
    "        self.test_y = self.y[test]\n",
    "        \n",
    "        return self.train_x, self.test_x, self.train_y, self.test_y\n",
    "\n",
    "class model:\n",
    "    def __init__(self, x, y):\n",
    "        self.x = x\n",
    "        self.y = y\n",
    "    \n",
    "    def bias(self, intercept):\n",
    "        ## if need intercept, add column x0 as 1\n",
    "        if intercept:\n",
    "            n = len(self.x)\n",
    "            ones = np.ones((n,1))\n",
    "            return np.hstack([ones,self.x])\n",
    "        return self.x\n",
    "    \n",
    "    def tidy(self, x, tails = 2):\n",
    "        \n",
    "        n, k = x.shape\n",
    "        self.error = self.y - x@self.beta \n",
    "\n",
    "        self.vb = self.error.var()*np.linalg.inv(x.T@x)\n",
    "        self.se = np.sqrt(np.diagonal(self.vb)).reshape(-1,1)\n",
    "        self.t = np.divide(self.beta,self.se)\n",
    "        self.pval = tails * (1 - stats.norm.cdf(self.t))\n",
    "        \n",
    "        names = ['Coef','Std err','t','p-value']\n",
    "        values = [self.beta, self.se, self.t, self.pval]\n",
    "        values = np.hstack(values)\n",
    "        \n",
    "        self.summary = pd.DataFrame(values, columns =names)\n",
    "\n",
    "        self.rsq = 1 - self.error.var()/self.y.var()\n",
    "        self.adjrsq = self.rsq*(n -1)/(n-k-1)\n",
    "        \n",
    "        var = self.error.var()\n",
    "        ## sum function here is useless, but just in order to get a list, rather than a list in a list\n",
    "        ## in this case, it's easily to plot graph\n",
    "        self.sse = sum(self.error.T@self.error)\n",
    "        \n",
    "        logl = -n/2*np.log(2*var*math.pi) - 1/2/var*self.sse\n",
    "        self.logl = logl.tolist()\n",
    "        \n",
    "        self.aic = -2*(logl)+ 2*k \n",
    "        self.bic = -2*(logl)+ k*np.log(n) \n",
    "        \n",
    "        names = ['r.squared','adj.rsq','df','loglikehood','aic','bic']\n",
    "        values = [self.rsq,self.adjrsq,n-k-1,logl,self.aic,self.bic]\n",
    "        glance= pd.DataFrame(columns = ['r.squared','adj.rsq','df','loglikehood','aic','bic'])\n",
    "        glance.loc[0] = values\n",
    "        \n",
    "        self.glance = glance \n",
    "        return  self.summary\n",
    "    \n",
    "    def least_square(self, intercept = False):\n",
    "        x = self.bias(intercept)\n",
    "        \n",
    "        xx = x.T@x\n",
    "        xy = x.T@self.y\n",
    "        \n",
    "        self.beta = np.linalg.solve(xx,xy)\n",
    "        return self.tidy(x)\n",
    "    \n",
    "    def ridge(self, intercept = False, lumda = 0.2):\n",
    "        x = self.bias(intercept)\n",
    "        \n",
    "        I = lumda*np.identity(x.shape[1])\n",
    "        xy = x.T@self.y\n",
    "        xx = x.T@x\n",
    "        self.beta = np.linalg.inv(xx+ I)@xy\n",
    "        return self.tidy(x)\n",
    "    \n",
    "    \n",
    "    def gradient_descent(self, learning_rate = 0.01, iterations = 10000, threshold = 1e-5, intercept = False, random =False):\n",
    "\n",
    "        x = self.bias(intercept)\n",
    "        m, n = np.shape(x)\n",
    "        \n",
    "        if random:\n",
    "                ## random start\n",
    "            beta = np.random.randn(n).reshape(-1,1)\n",
    "        else:\n",
    "            ## init beta = [1,1,1]\n",
    "            beta = np.ones(n).reshape(-1,1)  \n",
    "        \n",
    "        for i in range(iterations):\n",
    "\n",
    "            error = x@beta - self.y\n",
    "            update = - (1/m)*learning_rate*x.T@error\n",
    "            beta += update\n",
    "            \n",
    "            ## threshold measure if learning step is accuracy\n",
    "            if np.abs(update).sum()< threshold:\n",
    "                self.beta = beta\n",
    "                return self.tidy(x)\n",
    "            \n",
    "        return Exception('Gradient did not converge')\n",
    "    \n",
    "    def predict(self, x, beta = None):\n",
    "        if beta is None:\n",
    "            return x@self.beta\n",
    "        \n",
    "        return x@beta\n",
    "    \n",
    "    def performance(self, test_y, y_pred):\n",
    "        ### sum function makeds nothing but return a value that makes it easier to plot \n",
    "        return sum((test_y - y_pred).T@(test_y - y_pred))\n",
    "        \n",
    "            \n",
    "train_x, test_x, train_y, test_y = data_generate_process(x, y).split()"
   ]
  },
  {
<<<<<<< HEAD
   "cell_type": "markdown",
   "metadata": {},
   "source": [
    "## Ordinary Least Square\n",
    "$Beta = {(XX')} ^{-1}XY $\n",
    "## Ridge\n",
    "$Beta = {(XX'+ I)} ^{-1}XY $\n",
    "## Gradient Descent\n",
    "$Beta = Beta + learningRate * X' Error$\n"
   ]
  },
  {
=======
>>>>>>> 27dc72bf56eba6ef0435dd9625fa62998278179c
   "cell_type": "code",
   "execution_count": 3,
   "metadata": {},
   "outputs": [
    {
     "data": {
      "text/html": [
       "<div>\n",
       "<style scoped>\n",
       "    .dataframe tbody tr th:only-of-type {\n",
       "        vertical-align: middle;\n",
       "    }\n",
       "\n",
       "    .dataframe tbody tr th {\n",
       "        vertical-align: top;\n",
       "    }\n",
       "\n",
       "    .dataframe thead th {\n",
       "        text-align: right;\n",
       "    }\n",
       "</style>\n",
       "<table border=\"1\" class=\"dataframe\">\n",
       "  <thead>\n",
       "    <tr style=\"text-align: right;\">\n",
       "      <th></th>\n",
       "      <th>Coef</th>\n",
       "      <th>Std err</th>\n",
       "      <th>t</th>\n",
       "      <th>p-value</th>\n",
       "    </tr>\n",
       "  </thead>\n",
       "  <tbody>\n",
       "    <tr>\n",
       "      <th>0</th>\n",
<<<<<<< HEAD
       "      <td>0.568921</td>\n",
       "      <td>0.011592</td>\n",
       "      <td>49.079583</td>\n",
       "      <td>0.000000e+00</td>\n",
       "    </tr>\n",
       "    <tr>\n",
       "      <th>1</th>\n",
       "      <td>0.511895</td>\n",
       "      <td>0.011722</td>\n",
       "      <td>43.671179</td>\n",
       "      <td>0.000000e+00</td>\n",
       "    </tr>\n",
       "    <tr>\n",
       "      <th>2</th>\n",
       "      <td>0.130392</td>\n",
       "      <td>0.011688</td>\n",
       "      <td>11.155703</td>\n",
       "      <td>0.000000e+00</td>\n",
       "    </tr>\n",
       "    <tr>\n",
       "      <th>3</th>\n",
       "      <td>0.923494</td>\n",
       "      <td>0.011588</td>\n",
       "      <td>79.693100</td>\n",
       "      <td>0.000000e+00</td>\n",
       "    </tr>\n",
       "    <tr>\n",
       "      <th>4</th>\n",
       "      <td>0.562558</td>\n",
       "      <td>0.011858</td>\n",
       "      <td>47.442980</td>\n",
       "      <td>0.000000e+00</td>\n",
       "    </tr>\n",
       "    <tr>\n",
       "      <th>5</th>\n",
       "      <td>0.585283</td>\n",
       "      <td>0.011628</td>\n",
       "      <td>50.334591</td>\n",
       "      <td>0.000000e+00</td>\n",
       "    </tr>\n",
       "    <tr>\n",
       "      <th>6</th>\n",
       "      <td>0.084285</td>\n",
       "      <td>0.011859</td>\n",
       "      <td>7.106970</td>\n",
       "      <td>1.186162e-12</td>\n",
       "    </tr>\n",
       "    <tr>\n",
       "      <th>7</th>\n",
       "      <td>0.794196</td>\n",
       "      <td>0.011779</td>\n",
       "      <td>67.425171</td>\n",
       "      <td>0.000000e+00</td>\n",
       "    </tr>\n",
       "    <tr>\n",
       "      <th>8</th>\n",
       "      <td>0.002680</td>\n",
       "      <td>0.011766</td>\n",
       "      <td>0.227724</td>\n",
       "      <td>8.198609e-01</td>\n",
       "    </tr>\n",
       "    <tr>\n",
       "      <th>9</th>\n",
       "      <td>0.350027</td>\n",
       "      <td>0.011939</td>\n",
       "      <td>29.319164</td>\n",
       "      <td>0.000000e+00</td>\n",
=======
       "      <td>0.984821</td>\n",
       "      <td>0.038736</td>\n",
       "      <td>25.423944</td>\n",
       "      <td>0.0</td>\n",
       "    </tr>\n",
       "    <tr>\n",
       "      <th>1</th>\n",
       "      <td>1.030293</td>\n",
       "      <td>0.039770</td>\n",
       "      <td>25.906236</td>\n",
       "      <td>0.0</td>\n",
       "    </tr>\n",
       "    <tr>\n",
       "      <th>2</th>\n",
       "      <td>5.009641</td>\n",
       "      <td>0.037344</td>\n",
       "      <td>134.149149</td>\n",
       "      <td>0.0</td>\n",
>>>>>>> 27dc72bf56eba6ef0435dd9625fa62998278179c
       "    </tr>\n",
       "  </tbody>\n",
       "</table>\n",
       "</div>"
      ],
      "text/plain": [
<<<<<<< HEAD
       "       Coef   Std err          t       p-value\n",
       "0  0.568921  0.011592  49.079583  0.000000e+00\n",
       "1  0.511895  0.011722  43.671179  0.000000e+00\n",
       "2  0.130392  0.011688  11.155703  0.000000e+00\n",
       "3  0.923494  0.011588  79.693100  0.000000e+00\n",
       "4  0.562558  0.011858  47.442980  0.000000e+00\n",
       "5  0.585283  0.011628  50.334591  0.000000e+00\n",
       "6  0.084285  0.011859   7.106970  1.186162e-12\n",
       "7  0.794196  0.011779  67.425171  0.000000e+00\n",
       "8  0.002680  0.011766   0.227724  8.198609e-01\n",
       "9  0.350027  0.011939  29.319164  0.000000e+00"
=======
       "       Coef   Std err           t  p-value\n",
       "0  0.984821  0.038736   25.423944      0.0\n",
       "1  1.030293  0.039770   25.906236      0.0\n",
       "2  5.009641  0.037344  134.149149      0.0"
>>>>>>> 27dc72bf56eba6ef0435dd9625fa62998278179c
      ]
     },
     "execution_count": 3,
     "metadata": {},
     "output_type": "execute_result"
    }
   ],
   "source": [
    "ols = model(train_x, train_y)\n",
    "ols.least_square()"
   ]
  },
  {
   "cell_type": "code",
   "execution_count": 4,
   "metadata": {},
   "outputs": [
    {
     "data": {
      "text/html": [
       "<div>\n",
       "<style scoped>\n",
       "    .dataframe tbody tr th:only-of-type {\n",
       "        vertical-align: middle;\n",
       "    }\n",
       "\n",
       "    .dataframe tbody tr th {\n",
       "        vertical-align: top;\n",
       "    }\n",
       "\n",
       "    .dataframe thead th {\n",
       "        text-align: right;\n",
       "    }\n",
       "</style>\n",
       "<table border=\"1\" class=\"dataframe\">\n",
       "  <thead>\n",
       "    <tr style=\"text-align: right;\">\n",
       "      <th></th>\n",
       "      <th>r.squared</th>\n",
       "      <th>adj.rsq</th>\n",
       "      <th>df</th>\n",
       "      <th>loglikehood</th>\n",
       "      <th>aic</th>\n",
       "      <th>bic</th>\n",
       "    </tr>\n",
       "  </thead>\n",
       "  <tbody>\n",
       "    <tr>\n",
       "      <th>0</th>\n",
<<<<<<< HEAD
       "      <td>0.752167</td>\n",
       "      <td>0.753243</td>\n",
       "      <td>6989</td>\n",
       "      <td>[-9842.197008686257]</td>\n",
       "      <td>[19704.394017372513]</td>\n",
       "      <td>[19772.930671652888]</td>\n",
=======
       "      <td>0.965189</td>\n",
       "      <td>0.969349</td>\n",
       "      <td>696</td>\n",
       "      <td>[-1005.9707810169177]</td>\n",
       "      <td>[2017.9415620338355]</td>\n",
       "      <td>[2031.5948030389657]</td>\n",
>>>>>>> 27dc72bf56eba6ef0435dd9625fa62998278179c
       "    </tr>\n",
       "  </tbody>\n",
       "</table>\n",
       "</div>"
      ],
      "text/plain": [
<<<<<<< HEAD
       "   r.squared   adj.rsq    df           loglikehood                   aic  \\\n",
       "0   0.752167  0.753243  6989  [-9842.197008686257]  [19704.394017372513]   \n",
       "\n",
       "                    bic  \n",
       "0  [19772.930671652888]  "
=======
       "   r.squared   adj.rsq   df            loglikehood                   aic  \\\n",
       "0   0.965189  0.969349  696  [-1005.9707810169177]  [2017.9415620338355]   \n",
       "\n",
       "                    bic  \n",
       "0  [2031.5948030389657]  "
>>>>>>> 27dc72bf56eba6ef0435dd9625fa62998278179c
      ]
     },
     "execution_count": 4,
     "metadata": {},
     "output_type": "execute_result"
    }
   ],
   "source": [
    "ols.glance"
   ]
  },
  {
   "cell_type": "code",
   "execution_count": 5,
   "metadata": {},
   "outputs": [
    {
     "name": "stdout",
     "output_type": "stream",
     "text": [
      "                                 OLS Regression Results                                \n",
      "=======================================================================================\n",
<<<<<<< HEAD
      "Dep. Variable:                      y   R-squared (uncentered):                   0.752\n",
      "Model:                            OLS   Adj. R-squared (uncentered):              0.752\n",
      "Method:                 Least Squares   F-statistic:                              2122.\n",
      "Date:                Wed, 15 Jul 2020   Prob (F-statistic):                        0.00\n",
      "Time:                        20:32:50   Log-Likelihood:                         -9842.2\n",
      "No. Observations:                7000   AIC:                                  1.970e+04\n",
      "Df Residuals:                    6990   BIC:                                  1.977e+04\n",
      "Df Model:                          10                                                  \n",
=======
      "Dep. Variable:                      y   R-squared (uncentered):                   0.965\n",
      "Model:                            OLS   Adj. R-squared (uncentered):              0.965\n",
      "Method:                 Least Squares   F-statistic:                              6436.\n",
      "Date:                Sat, 11 Apr 2020   Prob (F-statistic):                        0.00\n",
      "Time:                        19:22:14   Log-Likelihood:                         -1006.0\n",
      "No. Observations:                 700   AIC:                                      2018.\n",
      "Df Residuals:                     697   BIC:                                      2032.\n",
      "Df Model:                           3                                                  \n",
>>>>>>> 27dc72bf56eba6ef0435dd9625fa62998278179c
      "Covariance Type:            nonrobust                                                  \n",
      "==============================================================================\n",
      "                 coef    std err          t      P>|t|      [0.025      0.975]\n",
      "------------------------------------------------------------------------------\n",
<<<<<<< HEAD
      "x1             0.5689      0.012     49.043      0.000       0.546       0.592\n",
      "x2             0.5119      0.012     43.638      0.000       0.489       0.535\n",
      "x3             0.1304      0.012     11.147      0.000       0.107       0.153\n",
      "x4             0.9235      0.012     79.633      0.000       0.901       0.946\n",
      "x5             0.5626      0.012     47.407      0.000       0.539       0.586\n",
      "x6             0.5853      0.012     50.297      0.000       0.562       0.608\n",
      "x7             0.0843      0.012      7.102      0.000       0.061       0.108\n",
      "x8             0.7942      0.012     67.375      0.000       0.771       0.817\n",
      "x9             0.0027      0.012      0.228      0.820      -0.020       0.026\n",
      "x10            0.3500      0.012     29.297      0.000       0.327       0.373\n",
      "==============================================================================\n",
      "Omnibus:                        0.885   Durbin-Watson:                   1.976\n",
      "Prob(Omnibus):                  0.643   Jarque-Bera (JB):                0.866\n",
      "Skew:                           0.027   Prob(JB):                        0.649\n",
      "Kurtosis:                       3.010   Cond. No.                         1.06\n",
=======
      "x1             0.9848      0.039     25.358      0.000       0.909       1.061\n",
      "x2             1.0303      0.040     25.839      0.000       0.952       1.109\n",
      "x3             5.0096      0.037    133.799      0.000       4.936       5.083\n",
      "==============================================================================\n",
      "Omnibus:                        1.981   Durbin-Watson:                   2.046\n",
      "Prob(Omnibus):                  0.371   Jarque-Bera (JB):                1.978\n",
      "Skew:                           0.017   Prob(JB):                        0.372\n",
      "Kurtosis:                       3.258   Cond. No.                         1.08\n",
>>>>>>> 27dc72bf56eba6ef0435dd9625fa62998278179c
      "==============================================================================\n",
      "\n",
      "Warnings:\n",
      "[1] Standard Errors assume that the covariance matrix of the errors is correctly specified.\n"
     ]
    }
   ],
   "source": [
    "import statsmodels.api as sm\n",
    "\n",
    "results = sm.OLS(train_y, train_x).fit()\n",
    "# Inspect the results and compared to the result in the package I built\n",
    "print(results.summary())\n",
    "## it's the same between OLS and this package"
   ]
  },
  {
   "cell_type": "code",
   "execution_count": 6,
   "metadata": {},
   "outputs": [
    {
     "data": {
      "text/html": [
       "<div>\n",
       "<style scoped>\n",
       "    .dataframe tbody tr th:only-of-type {\n",
       "        vertical-align: middle;\n",
       "    }\n",
       "\n",
       "    .dataframe tbody tr th {\n",
       "        vertical-align: top;\n",
       "    }\n",
       "\n",
       "    .dataframe thead th {\n",
       "        text-align: right;\n",
       "    }\n",
       "</style>\n",
       "<table border=\"1\" class=\"dataframe\">\n",
       "  <thead>\n",
       "    <tr style=\"text-align: right;\">\n",
       "      <th></th>\n",
       "      <th>Coef</th>\n",
       "      <th>Std err</th>\n",
       "      <th>t</th>\n",
       "      <th>p-value</th>\n",
       "    </tr>\n",
       "  </thead>\n",
       "  <tbody>\n",
       "    <tr>\n",
       "      <th>0</th>\n",
<<<<<<< HEAD
       "      <td>0.568905</td>\n",
       "      <td>0.011592</td>\n",
       "      <td>49.078256</td>\n",
       "      <td>0.000000e+00</td>\n",
       "    </tr>\n",
       "    <tr>\n",
       "      <th>1</th>\n",
       "      <td>0.511880</td>\n",
       "      <td>0.011722</td>\n",
       "      <td>43.669940</td>\n",
       "      <td>0.000000e+00</td>\n",
       "    </tr>\n",
       "    <tr>\n",
       "      <th>2</th>\n",
       "      <td>0.130389</td>\n",
       "      <td>0.011688</td>\n",
       "      <td>11.155426</td>\n",
       "      <td>0.000000e+00</td>\n",
       "    </tr>\n",
       "    <tr>\n",
       "      <th>3</th>\n",
       "      <td>0.923469</td>\n",
       "      <td>0.011588</td>\n",
       "      <td>79.690953</td>\n",
       "      <td>0.000000e+00</td>\n",
       "    </tr>\n",
       "    <tr>\n",
       "      <th>4</th>\n",
       "      <td>0.562542</td>\n",
       "      <td>0.011858</td>\n",
       "      <td>47.441633</td>\n",
       "      <td>0.000000e+00</td>\n",
       "    </tr>\n",
       "    <tr>\n",
       "      <th>5</th>\n",
       "      <td>0.585266</td>\n",
       "      <td>0.011628</td>\n",
       "      <td>50.333139</td>\n",
       "      <td>0.000000e+00</td>\n",
       "    </tr>\n",
       "    <tr>\n",
       "      <th>6</th>\n",
       "      <td>0.084283</td>\n",
       "      <td>0.011859</td>\n",
       "      <td>7.106823</td>\n",
       "      <td>1.187495e-12</td>\n",
       "    </tr>\n",
       "    <tr>\n",
       "      <th>7</th>\n",
       "      <td>0.794173</td>\n",
       "      <td>0.011779</td>\n",
       "      <td>67.423261</td>\n",
       "      <td>0.000000e+00</td>\n",
       "    </tr>\n",
       "    <tr>\n",
       "      <th>8</th>\n",
       "      <td>0.002679</td>\n",
       "      <td>0.011766</td>\n",
       "      <td>0.227704</td>\n",
       "      <td>8.198760e-01</td>\n",
       "    </tr>\n",
       "    <tr>\n",
       "      <th>9</th>\n",
       "      <td>0.350017</td>\n",
       "      <td>0.011939</td>\n",
       "      <td>29.318342</td>\n",
       "      <td>0.000000e+00</td>\n",
=======
       "      <td>0.984585</td>\n",
       "      <td>0.038736</td>\n",
       "      <td>25.417840</td>\n",
       "      <td>0.0</td>\n",
       "    </tr>\n",
       "    <tr>\n",
       "      <th>1</th>\n",
       "      <td>1.029938</td>\n",
       "      <td>0.039770</td>\n",
       "      <td>25.897279</td>\n",
       "      <td>0.0</td>\n",
       "    </tr>\n",
       "    <tr>\n",
       "      <th>2</th>\n",
       "      <td>5.008295</td>\n",
       "      <td>0.037344</td>\n",
       "      <td>134.112951</td>\n",
       "      <td>0.0</td>\n",
>>>>>>> 27dc72bf56eba6ef0435dd9625fa62998278179c
       "    </tr>\n",
       "  </tbody>\n",
       "</table>\n",
       "</div>"
      ],
      "text/plain": [
<<<<<<< HEAD
       "       Coef   Std err          t       p-value\n",
       "0  0.568905  0.011592  49.078256  0.000000e+00\n",
       "1  0.511880  0.011722  43.669940  0.000000e+00\n",
       "2  0.130389  0.011688  11.155426  0.000000e+00\n",
       "3  0.923469  0.011588  79.690953  0.000000e+00\n",
       "4  0.562542  0.011858  47.441633  0.000000e+00\n",
       "5  0.585266  0.011628  50.333139  0.000000e+00\n",
       "6  0.084283  0.011859   7.106823  1.187495e-12\n",
       "7  0.794173  0.011779  67.423261  0.000000e+00\n",
       "8  0.002679  0.011766   0.227704  8.198760e-01\n",
       "9  0.350017  0.011939  29.318342  0.000000e+00"
=======
       "       Coef   Std err           t  p-value\n",
       "0  0.984585  0.038736   25.417840      0.0\n",
       "1  1.029938  0.039770   25.897279      0.0\n",
       "2  5.008295  0.037344  134.112951      0.0"
>>>>>>> 27dc72bf56eba6ef0435dd9625fa62998278179c
      ]
     },
     "execution_count": 6,
     "metadata": {},
     "output_type": "execute_result"
    }
   ],
   "source": [
    "ridge = model(train_x, train_y)\n",
    "ridge.ridge()"
   ]
  },
  {
   "cell_type": "code",
   "execution_count": 7,
   "metadata": {},
   "outputs": [
    {
     "data": {
      "text/html": [
       "<div>\n",
       "<style scoped>\n",
       "    .dataframe tbody tr th:only-of-type {\n",
       "        vertical-align: middle;\n",
       "    }\n",
       "\n",
       "    .dataframe tbody tr th {\n",
       "        vertical-align: top;\n",
       "    }\n",
       "\n",
       "    .dataframe thead th {\n",
       "        text-align: right;\n",
       "    }\n",
       "</style>\n",
       "<table border=\"1\" class=\"dataframe\">\n",
       "  <thead>\n",
       "    <tr style=\"text-align: right;\">\n",
       "      <th></th>\n",
       "      <th>r.squared</th>\n",
       "      <th>adj.rsq</th>\n",
       "      <th>df</th>\n",
       "      <th>loglikehood</th>\n",
       "      <th>aic</th>\n",
       "      <th>bic</th>\n",
       "    </tr>\n",
       "  </thead>\n",
       "  <tbody>\n",
       "    <tr>\n",
       "      <th>0</th>\n",
<<<<<<< HEAD
       "      <td>0.752167</td>\n",
       "      <td>0.753243</td>\n",
       "      <td>6989</td>\n",
       "      <td>[-9842.197016888187]</td>\n",
       "      <td>[19704.394033776374]</td>\n",
       "      <td>[19772.93068805675]</td>\n",
=======
       "      <td>0.965189</td>\n",
       "      <td>0.969349</td>\n",
       "      <td>696</td>\n",
       "      <td>[-1005.9714886671766]</td>\n",
       "      <td>[2017.9429773343531]</td>\n",
       "      <td>[2031.5962183394834]</td>\n",
>>>>>>> 27dc72bf56eba6ef0435dd9625fa62998278179c
       "    </tr>\n",
       "  </tbody>\n",
       "</table>\n",
       "</div>"
      ],
      "text/plain": [
<<<<<<< HEAD
       "   r.squared   adj.rsq    df           loglikehood                   aic  \\\n",
       "0   0.752167  0.753243  6989  [-9842.197016888187]  [19704.394033776374]   \n",
       "\n",
       "                   bic  \n",
       "0  [19772.93068805675]  "
=======
       "   r.squared   adj.rsq   df            loglikehood                   aic  \\\n",
       "0   0.965189  0.969349  696  [-1005.9714886671766]  [2017.9429773343531]   \n",
       "\n",
       "                    bic  \n",
       "0  [2031.5962183394834]  "
>>>>>>> 27dc72bf56eba6ef0435dd9625fa62998278179c
      ]
     },
     "execution_count": 7,
     "metadata": {},
     "output_type": "execute_result"
    }
   ],
   "source": [
    "ridge.glance"
   ]
  },
  {
   "cell_type": "code",
   "execution_count": 8,
   "metadata": {},
   "outputs": [
    {
     "data": {
      "text/html": [
       "<div>\n",
       "<style scoped>\n",
       "    .dataframe tbody tr th:only-of-type {\n",
       "        vertical-align: middle;\n",
       "    }\n",
       "\n",
       "    .dataframe tbody tr th {\n",
       "        vertical-align: top;\n",
       "    }\n",
       "\n",
       "    .dataframe thead th {\n",
       "        text-align: right;\n",
       "    }\n",
       "</style>\n",
       "<table border=\"1\" class=\"dataframe\">\n",
       "  <thead>\n",
       "    <tr style=\"text-align: right;\">\n",
       "      <th></th>\n",
       "      <th>Coef</th>\n",
       "      <th>Std err</th>\n",
       "      <th>t</th>\n",
       "      <th>p-value</th>\n",
       "    </tr>\n",
       "  </thead>\n",
       "  <tbody>\n",
       "    <tr>\n",
       "      <th>0</th>\n",
<<<<<<< HEAD
       "      <td>0.569014</td>\n",
       "      <td>0.011592</td>\n",
       "      <td>49.087642</td>\n",
       "      <td>0.000000e+00</td>\n",
       "    </tr>\n",
       "    <tr>\n",
       "      <th>1</th>\n",
       "      <td>0.511981</td>\n",
       "      <td>0.011722</td>\n",
       "      <td>43.678548</td>\n",
       "      <td>0.000000e+00</td>\n",
       "    </tr>\n",
       "    <tr>\n",
       "      <th>2</th>\n",
       "      <td>0.130490</td>\n",
       "      <td>0.011688</td>\n",
       "      <td>11.164102</td>\n",
       "      <td>0.000000e+00</td>\n",
       "    </tr>\n",
       "    <tr>\n",
       "      <th>3</th>\n",
       "      <td>0.923461</td>\n",
       "      <td>0.011588</td>\n",
       "      <td>79.690242</td>\n",
       "      <td>0.000000e+00</td>\n",
       "    </tr>\n",
       "    <tr>\n",
       "      <th>4</th>\n",
       "      <td>0.562628</td>\n",
       "      <td>0.011858</td>\n",
       "      <td>47.448881</td>\n",
       "      <td>0.000000e+00</td>\n",
       "    </tr>\n",
       "    <tr>\n",
       "      <th>5</th>\n",
       "      <td>0.585388</td>\n",
       "      <td>0.011628</td>\n",
       "      <td>50.343656</td>\n",
       "      <td>0.000000e+00</td>\n",
       "    </tr>\n",
       "    <tr>\n",
       "      <th>6</th>\n",
       "      <td>0.084453</td>\n",
       "      <td>0.011859</td>\n",
       "      <td>7.121150</td>\n",
       "      <td>1.070255e-12</td>\n",
       "    </tr>\n",
       "    <tr>\n",
       "      <th>7</th>\n",
       "      <td>0.794218</td>\n",
       "      <td>0.011779</td>\n",
       "      <td>67.427099</td>\n",
       "      <td>0.000000e+00</td>\n",
       "    </tr>\n",
       "    <tr>\n",
       "      <th>8</th>\n",
       "      <td>0.002858</td>\n",
       "      <td>0.011766</td>\n",
       "      <td>0.242860</td>\n",
       "      <td>8.081136e-01</td>\n",
       "    </tr>\n",
       "    <tr>\n",
       "      <th>9</th>\n",
       "      <td>0.350145</td>\n",
       "      <td>0.011939</td>\n",
       "      <td>29.329024</td>\n",
       "      <td>0.000000e+00</td>\n",
=======
       "      <td>0.985055</td>\n",
       "      <td>0.038736</td>\n",
       "      <td>25.429996</td>\n",
       "      <td>0.0</td>\n",
       "    </tr>\n",
       "    <tr>\n",
       "      <th>1</th>\n",
       "      <td>1.030074</td>\n",
       "      <td>0.039770</td>\n",
       "      <td>25.900734</td>\n",
       "      <td>0.0</td>\n",
       "    </tr>\n",
       "    <tr>\n",
       "      <th>2</th>\n",
       "      <td>5.009076</td>\n",
       "      <td>0.037344</td>\n",
       "      <td>134.134036</td>\n",
       "      <td>0.0</td>\n",
>>>>>>> 27dc72bf56eba6ef0435dd9625fa62998278179c
       "    </tr>\n",
       "  </tbody>\n",
       "</table>\n",
       "</div>"
      ],
      "text/plain": [
<<<<<<< HEAD
       "       Coef   Std err          t       p-value\n",
       "0  0.569014  0.011592  49.087642  0.000000e+00\n",
       "1  0.511981  0.011722  43.678548  0.000000e+00\n",
       "2  0.130490  0.011688  11.164102  0.000000e+00\n",
       "3  0.923461  0.011588  79.690242  0.000000e+00\n",
       "4  0.562628  0.011858  47.448881  0.000000e+00\n",
       "5  0.585388  0.011628  50.343656  0.000000e+00\n",
       "6  0.084453  0.011859   7.121150  1.070255e-12\n",
       "7  0.794218  0.011779  67.427099  0.000000e+00\n",
       "8  0.002858  0.011766   0.242860  8.081136e-01\n",
       "9  0.350145  0.011939  29.329024  0.000000e+00"
=======
       "       Coef   Std err           t  p-value\n",
       "0  0.985055  0.038736   25.429996      0.0\n",
       "1  1.030074  0.039770   25.900734      0.0\n",
       "2  5.009076  0.037344  134.134036      0.0"
>>>>>>> 27dc72bf56eba6ef0435dd9625fa62998278179c
      ]
     },
     "execution_count": 8,
     "metadata": {},
     "output_type": "execute_result"
    }
   ],
   "source": [
    "gradient_descent = model(train_x, train_y)\n",
    "gradient_descent.gradient_descent()"
   ]
  },
  {
   "cell_type": "code",
   "execution_count": 9,
   "metadata": {},
   "outputs": [
    {
     "data": {
      "text/html": [
       "<div>\n",
       "<style scoped>\n",
       "    .dataframe tbody tr th:only-of-type {\n",
       "        vertical-align: middle;\n",
       "    }\n",
       "\n",
       "    .dataframe tbody tr th {\n",
       "        vertical-align: top;\n",
       "    }\n",
       "\n",
       "    .dataframe thead th {\n",
       "        text-align: right;\n",
       "    }\n",
       "</style>\n",
       "<table border=\"1\" class=\"dataframe\">\n",
       "  <thead>\n",
       "    <tr style=\"text-align: right;\">\n",
       "      <th></th>\n",
       "      <th>r.squared</th>\n",
       "      <th>adj.rsq</th>\n",
       "      <th>df</th>\n",
       "      <th>loglikehood</th>\n",
       "      <th>aic</th>\n",
       "      <th>bic</th>\n",
       "    </tr>\n",
       "  </thead>\n",
       "  <tbody>\n",
       "    <tr>\n",
       "      <th>0</th>\n",
<<<<<<< HEAD
       "      <td>0.752167</td>\n",
       "      <td>0.753243</td>\n",
       "      <td>6989</td>\n",
       "      <td>[-9842.197434761234]</td>\n",
       "      <td>[19704.394869522468]</td>\n",
       "      <td>[19772.931523802843]</td>\n",
=======
       "      <td>0.965189</td>\n",
       "      <td>0.969349</td>\n",
       "      <td>696</td>\n",
       "      <td>[-1005.9709237108744]</td>\n",
       "      <td>[2017.941847421749]</td>\n",
       "      <td>[2031.595088426879]</td>\n",
>>>>>>> 27dc72bf56eba6ef0435dd9625fa62998278179c
       "    </tr>\n",
       "  </tbody>\n",
       "</table>\n",
       "</div>"
      ],
      "text/plain": [
<<<<<<< HEAD
       "   r.squared   adj.rsq    df           loglikehood                   aic  \\\n",
       "0   0.752167  0.753243  6989  [-9842.197434761234]  [19704.394869522468]   \n",
       "\n",
       "                    bic  \n",
       "0  [19772.931523802843]  "
=======
       "   r.squared   adj.rsq   df            loglikehood                  aic  \\\n",
       "0   0.965189  0.969349  696  [-1005.9709237108744]  [2017.941847421749]   \n",
       "\n",
       "                   bic  \n",
       "0  [2031.595088426879]  "
>>>>>>> 27dc72bf56eba6ef0435dd9625fa62998278179c
      ]
     },
     "execution_count": 9,
     "metadata": {},
     "output_type": "execute_result"
    }
   ],
   "source": [
    "gradient_descent.glance"
   ]
  },
  {
   "cell_type": "code",
   "execution_count": 10,
   "metadata": {},
   "outputs": [
    {
     "data": {
      "text/html": [
       "<div>\n",
       "<style scoped>\n",
       "    .dataframe tbody tr th:only-of-type {\n",
       "        vertical-align: middle;\n",
       "    }\n",
       "\n",
       "    .dataframe tbody tr th {\n",
       "        vertical-align: top;\n",
       "    }\n",
       "\n",
       "    .dataframe thead th {\n",
       "        text-align: right;\n",
       "    }\n",
       "</style>\n",
       "<table border=\"1\" class=\"dataframe\">\n",
       "  <thead>\n",
       "    <tr style=\"text-align: right;\">\n",
       "      <th></th>\n",
       "      <th>Coef</th>\n",
       "      <th>Std err</th>\n",
       "      <th>t</th>\n",
       "      <th>p-value</th>\n",
       "    </tr>\n",
       "  </thead>\n",
       "  <tbody>\n",
       "    <tr>\n",
       "      <th>0</th>\n",
<<<<<<< HEAD
       "      <td>0.568823</td>\n",
       "      <td>0.011592</td>\n",
       "      <td>49.071109</td>\n",
       "      <td>0.000000e+00</td>\n",
       "    </tr>\n",
       "    <tr>\n",
       "      <th>1</th>\n",
       "      <td>0.511931</td>\n",
       "      <td>0.011722</td>\n",
       "      <td>43.674309</td>\n",
       "      <td>0.000000e+00</td>\n",
       "    </tr>\n",
       "    <tr>\n",
       "      <th>2</th>\n",
       "      <td>0.130387</td>\n",
       "      <td>0.011688</td>\n",
       "      <td>11.155239</td>\n",
       "      <td>0.000000e+00</td>\n",
       "    </tr>\n",
       "    <tr>\n",
       "      <th>3</th>\n",
       "      <td>0.923353</td>\n",
       "      <td>0.011588</td>\n",
       "      <td>79.680987</td>\n",
       "      <td>0.000000e+00</td>\n",
       "    </tr>\n",
       "    <tr>\n",
       "      <th>4</th>\n",
       "      <td>0.562209</td>\n",
       "      <td>0.011858</td>\n",
       "      <td>47.413529</td>\n",
       "      <td>0.000000e+00</td>\n",
       "    </tr>\n",
       "    <tr>\n",
       "      <th>5</th>\n",
       "      <td>0.585229</td>\n",
       "      <td>0.011628</td>\n",
       "      <td>50.329949</td>\n",
       "      <td>0.000000e+00</td>\n",
       "    </tr>\n",
       "    <tr>\n",
       "      <th>6</th>\n",
       "      <td>0.084402</td>\n",
       "      <td>0.011859</td>\n",
       "      <td>7.116872</td>\n",
       "      <td>1.104006e-12</td>\n",
       "    </tr>\n",
       "    <tr>\n",
       "      <th>7</th>\n",
       "      <td>0.794228</td>\n",
       "      <td>0.011779</td>\n",
       "      <td>67.427956</td>\n",
       "      <td>0.000000e+00</td>\n",
       "    </tr>\n",
       "    <tr>\n",
       "      <th>8</th>\n",
       "      <td>0.002639</td>\n",
       "      <td>0.011766</td>\n",
       "      <td>0.224259</td>\n",
       "      <td>8.225560e-01</td>\n",
       "    </tr>\n",
       "    <tr>\n",
       "      <th>9</th>\n",
       "      <td>0.349921</td>\n",
       "      <td>0.011939</td>\n",
       "      <td>29.310288</td>\n",
       "      <td>0.000000e+00</td>\n",
=======
       "      <td>0.984910</td>\n",
       "      <td>0.038736</td>\n",
       "      <td>25.426227</td>\n",
       "      <td>0.0</td>\n",
       "    </tr>\n",
       "    <tr>\n",
       "      <th>1</th>\n",
       "      <td>1.030297</td>\n",
       "      <td>0.039770</td>\n",
       "      <td>25.906321</td>\n",
       "      <td>0.0</td>\n",
       "    </tr>\n",
       "    <tr>\n",
       "      <th>2</th>\n",
       "      <td>5.008791</td>\n",
       "      <td>0.037344</td>\n",
       "      <td>134.126323</td>\n",
       "      <td>0.0</td>\n",
>>>>>>> 27dc72bf56eba6ef0435dd9625fa62998278179c
       "    </tr>\n",
       "  </tbody>\n",
       "</table>\n",
       "</div>"
      ],
      "text/plain": [
<<<<<<< HEAD
       "       Coef   Std err          t       p-value\n",
       "0  0.568823  0.011592  49.071109  0.000000e+00\n",
       "1  0.511931  0.011722  43.674309  0.000000e+00\n",
       "2  0.130387  0.011688  11.155239  0.000000e+00\n",
       "3  0.923353  0.011588  79.680987  0.000000e+00\n",
       "4  0.562209  0.011858  47.413529  0.000000e+00\n",
       "5  0.585229  0.011628  50.329949  0.000000e+00\n",
       "6  0.084402  0.011859   7.116872  1.104006e-12\n",
       "7  0.794228  0.011779  67.427956  0.000000e+00\n",
       "8  0.002639  0.011766   0.224259  8.225560e-01\n",
       "9  0.349921  0.011939  29.310288  0.000000e+00"
=======
       "       Coef   Std err           t  p-value\n",
       "0  0.984910  0.038736   25.426227      0.0\n",
       "1  1.030297  0.039770   25.906321      0.0\n",
       "2  5.008791  0.037344  134.126323      0.0"
>>>>>>> 27dc72bf56eba6ef0435dd9625fa62998278179c
      ]
     },
     "execution_count": 10,
     "metadata": {},
     "output_type": "execute_result"
    }
   ],
   "source": [
    "random_gradient_descent = model(train_x, train_y)\n",
    "random_gradient_descent.gradient_descent(random = True)"
   ]
  },
  {
   "cell_type": "code",
   "execution_count": 11,
   "metadata": {},
   "outputs": [
    {
     "data": {
      "text/html": [
       "<div>\n",
       "<style scoped>\n",
       "    .dataframe tbody tr th:only-of-type {\n",
       "        vertical-align: middle;\n",
       "    }\n",
       "\n",
       "    .dataframe tbody tr th {\n",
       "        vertical-align: top;\n",
       "    }\n",
       "\n",
       "    .dataframe thead th {\n",
       "        text-align: right;\n",
       "    }\n",
       "</style>\n",
       "<table border=\"1\" class=\"dataframe\">\n",
       "  <thead>\n",
       "    <tr style=\"text-align: right;\">\n",
       "      <th></th>\n",
       "      <th>r.squared</th>\n",
       "      <th>adj.rsq</th>\n",
       "      <th>df</th>\n",
       "      <th>loglikehood</th>\n",
       "      <th>aic</th>\n",
       "      <th>bic</th>\n",
       "    </tr>\n",
       "  </thead>\n",
       "  <tbody>\n",
       "    <tr>\n",
       "      <th>0</th>\n",
<<<<<<< HEAD
       "      <td>0.752167</td>\n",
       "      <td>0.753243</td>\n",
       "      <td>6989</td>\n",
       "      <td>[-9842.19766647769]</td>\n",
       "      <td>[19704.39533295538]</td>\n",
       "      <td>[19772.931987235756]</td>\n",
=======
       "      <td>0.965189</td>\n",
       "      <td>0.969349</td>\n",
       "      <td>696</td>\n",
       "      <td>[-1005.9710406697978]</td>\n",
       "      <td>[2017.9420813395957]</td>\n",
       "      <td>[2031.595322344726]</td>\n",
>>>>>>> 27dc72bf56eba6ef0435dd9625fa62998278179c
       "    </tr>\n",
       "  </tbody>\n",
       "</table>\n",
       "</div>"
      ],
      "text/plain": [
<<<<<<< HEAD
       "   r.squared   adj.rsq    df          loglikehood                  aic  \\\n",
       "0   0.752167  0.753243  6989  [-9842.19766647769]  [19704.39533295538]   \n",
       "\n",
       "                    bic  \n",
       "0  [19772.931987235756]  "
=======
       "   r.squared   adj.rsq   df            loglikehood                   aic  \\\n",
       "0   0.965189  0.969349  696  [-1005.9710406697978]  [2017.9420813395957]   \n",
       "\n",
       "                   bic  \n",
       "0  [2031.595322344726]  "
>>>>>>> 27dc72bf56eba6ef0435dd9625fa62998278179c
      ]
     },
     "execution_count": 11,
     "metadata": {},
     "output_type": "execute_result"
    }
   ],
   "source": [
    "random_gradient_descent.glance"
   ]
  },
  {
   "cell_type": "code",
   "execution_count": 12,
   "metadata": {},
   "outputs": [
    {
     "data": {
      "text/plain": [
<<<<<<< HEAD
       "[<matplotlib.lines.Line2D at 0x25a59d8cba8>]"
=======
       "[<matplotlib.lines.Line2D at 0x2a7c0b90b00>]"
>>>>>>> 27dc72bf56eba6ef0435dd9625fa62998278179c
      ]
     },
     "execution_count": 12,
     "metadata": {},
     "output_type": "execute_result"
    },
    {
     "data": {
<<<<<<< HEAD
      "image/png": "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\n",
=======
      "image/png": "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\n",
>>>>>>> 27dc72bf56eba6ef0435dd9625fa62998278179c
      "text/plain": [
       "<Figure size 432x288 with 1 Axes>"
      ]
     },
     "metadata": {
      "needs_background": "light"
     },
     "output_type": "display_data"
    }
   ],
   "source": [
    "## Model Evulation\n",
    "### 1.compared by AIC\n",
    "algorithms = [ols, ridge, gradient_descent, random_gradient_descent]\n",
    "names  = ['ols', 'ridge', 'GD', 'RGD']\n",
    "criterion = [item.aic for item in algorithms]\n",
    "plt.title('aic')\n",
    "plt.plot(names , criterion)\n"
   ]
  },
  {
   "cell_type": "code",
   "execution_count": 13,
   "metadata": {},
   "outputs": [
    {
     "data": {
      "text/plain": [
<<<<<<< HEAD
       "[<matplotlib.lines.Line2D at 0x25a5adeb4a8>]"
=======
       "[<matplotlib.lines.Line2D at 0x2a7c0c83128>]"
>>>>>>> 27dc72bf56eba6ef0435dd9625fa62998278179c
      ]
     },
     "execution_count": 13,
     "metadata": {},
     "output_type": "execute_result"
    },
    {
     "data": {
<<<<<<< HEAD
      "image/png": "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\n",
=======
      "image/png": "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\n",
>>>>>>> 27dc72bf56eba6ef0435dd9625fa62998278179c
      "text/plain": [
       "<Figure size 432x288 with 1 Axes>"
      ]
     },
     "metadata": {
      "needs_background": "light"
     },
     "output_type": "display_data"
    }
   ],
   "source": [
    "### 2.compared by bic\n",
    "criterion = [item.bic for item in algorithms]\n",
    "plt.title('bic')\n",
    "plt.plot(names , criterion)"
   ]
  },
  {
   "cell_type": "code",
   "execution_count": 14,
   "metadata": {},
   "outputs": [
    {
     "data": {
      "text/plain": [
<<<<<<< HEAD
       "[<matplotlib.lines.Line2D at 0x25a5ae45da0>]"
=======
       "[<matplotlib.lines.Line2D at 0x2a7c0cd9ef0>]"
>>>>>>> 27dc72bf56eba6ef0435dd9625fa62998278179c
      ]
     },
     "execution_count": 14,
     "metadata": {},
     "output_type": "execute_result"
    },
    {
     "data": {
<<<<<<< HEAD
      "image/png": "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\n",
=======
      "image/png": "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\n",
>>>>>>> 27dc72bf56eba6ef0435dd9625fa62998278179c
      "text/plain": [
       "<Figure size 432x288 with 1 Axes>"
      ]
     },
     "metadata": {
      "needs_background": "light"
     },
     "output_type": "display_data"
    }
   ],
   "source": [
    "### 3.compared by adjrsq\n",
    "criterion = [item.adjrsq for item in algorithms]\n",
    "plt.title('adjrsq')\n",
    "plt.plot(names , criterion)"
   ]
  },
  {
   "cell_type": "code",
   "execution_count": 15,
   "metadata": {},
   "outputs": [
    {
     "data": {
      "text/plain": [
<<<<<<< HEAD
       "[<matplotlib.lines.Line2D at 0x25a5ae93828>]"
=======
       "[<matplotlib.lines.Line2D at 0x2a7c0d2b470>]"
>>>>>>> 27dc72bf56eba6ef0435dd9625fa62998278179c
      ]
     },
     "execution_count": 15,
     "metadata": {},
     "output_type": "execute_result"
    },
    {
     "data": {
<<<<<<< HEAD
      "image/png": "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\n",
=======
      "image/png": "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\n",
>>>>>>> 27dc72bf56eba6ef0435dd9625fa62998278179c
      "text/plain": [
       "<Figure size 432x288 with 1 Axes>"
      ]
     },
     "metadata": {
      "needs_background": "light"
     },
     "output_type": "display_data"
    }
   ],
   "source": [
    "### 4.compared by beta.var\n",
    "criterion = [(item.beta - b).var() for item in algorithms]\n",
    "plt.title('var of estimate')\n",
    "plt.plot(names , criterion)"
   ]
  },
  {
   "cell_type": "code",
   "execution_count": 16,
   "metadata": {},
   "outputs": [
    {
     "data": {
      "text/plain": [
<<<<<<< HEAD
       "[<matplotlib.lines.Line2D at 0x25a5aee86d8>]"
=======
       "[<matplotlib.lines.Line2D at 0x2a7c0d630f0>]"
>>>>>>> 27dc72bf56eba6ef0435dd9625fa62998278179c
      ]
     },
     "execution_count": 16,
     "metadata": {},
     "output_type": "execute_result"
    },
    {
     "data": {
<<<<<<< HEAD
      "image/png": "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\n",
=======
      "image/png": "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\n",
>>>>>>> 27dc72bf56eba6ef0435dd9625fa62998278179c
      "text/plain": [
       "<Figure size 432x288 with 1 Axes>"
      ]
     },
     "metadata": {
      "needs_background": "light"
     },
     "output_type": "display_data"
    }
   ],
   "source": [
    "## 5.compared by SSE of Testing\n",
    "betas = [item.beta for item in algorithms]\n",
    "sse = []\n",
    "for beta in betas:\n",
    "    linear = model(train_x, train_y)\n",
    "    y_pred = linear.predict(test_x, beta)\n",
    "    sse.append(ridge.performance(test_y, y_pred))\n",
    "plt.title('SSE of test')\n",
    "plt.plot(names, sse)"
   ]
  },
  {
   "cell_type": "code",
   "execution_count": null,
   "metadata": {},
   "outputs": [],
   "source": []
<<<<<<< HEAD
  },
  {
   "cell_type": "code",
   "execution_count": null,
   "metadata": {},
   "outputs": [],
   "source": []
=======
>>>>>>> 27dc72bf56eba6ef0435dd9625fa62998278179c
  }
 ],
 "metadata": {
  "kernelspec": {
   "display_name": "Python 3",
   "language": "python",
   "name": "python3"
  },
  "language_info": {
   "codemirror_mode": {
    "name": "ipython",
    "version": 3
   },
   "file_extension": ".py",
   "mimetype": "text/x-python",
   "name": "python",
   "nbconvert_exporter": "python",
   "pygments_lexer": "ipython3",
   "version": "3.7.3"
  }
 },
 "nbformat": 4,
 "nbformat_minor": 2
}
